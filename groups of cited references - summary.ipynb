{
 "cells": [
  {
   "cell_type": "code",
   "execution_count": 3,
   "metadata": {},
   "outputs": [
    {
     "name": "stdout",
     "output_type": "stream",
     "text": [
      "['C:\\\\Users\\\\amcga\\\\GitHub\\\\knowknow\\\\archive\\\\knowknow\\\\analyses', 'C:\\\\Program Files (x86)\\\\Microsoft Visual Studio\\\\Shared\\\\Python37_64\\\\python37.zip', 'C:\\\\Program Files (x86)\\\\Microsoft Visual Studio\\\\Shared\\\\Python37_64\\\\DLLs', 'C:\\\\Program Files (x86)\\\\Microsoft Visual Studio\\\\Shared\\\\Python37_64\\\\lib', 'C:\\\\Program Files (x86)\\\\Microsoft Visual Studio\\\\Shared\\\\Python37_64', 'c:\\\\users\\\\amcga\\\\envs\\\\citation-deaths', '', 'c:\\\\users\\\\amcga\\\\envs\\\\citation-deaths\\\\lib\\\\site-packages', 'c:\\\\users\\\\amcga\\\\envs\\\\citation-deaths\\\\src\\\\dataverse', 'c:\\\\users\\\\amcga\\\\envs\\\\citation-deaths\\\\lib\\\\site-packages\\\\win32', 'c:\\\\users\\\\amcga\\\\envs\\\\citation-deaths\\\\lib\\\\site-packages\\\\win32\\\\lib', 'c:\\\\users\\\\amcga\\\\envs\\\\citation-deaths\\\\lib\\\\site-packages\\\\Pythonwin', 'c:\\\\users\\\\amcga\\\\envs\\\\citation-deaths\\\\lib\\\\site-packages\\\\IPython\\\\extensions', 'C:\\\\Users\\\\amcga\\\\.ipython', 'C:\\\\Users\\\\amcga\\\\GitHub\\\\knowknow\\\\archive\\\\', 'C:\\\\Users\\\\amcga\\\\GitHub\\\\knowknow\\\\archive\\\\']\n"
     ]
    }
   ],
   "source": [
    "import sys; sys.path.append(\"knowknow\".join(_dh[0].split(\"knowknow\")[:-1]))\n",
    "print(sys.path)\n",
    "from knowknow import *\n",
    "\n",
    "database_name = 'sociology-wos-all'"
   ]
  },
  {
   "cell_type": "code",
   "execution_count": 4,
   "metadata": {},
   "outputs": [
    {
     "name": "stdout",
     "output_type": "stream",
     "text": [
      "Loaded keys: dict_keys(['c'])\n",
      "Available keys: []\n"
     ]
    }
   ],
   "source": [
    "groups = load_variable(\"%s.groups\"%database_name)\n",
    "cits = get_cnt(\"%s.doc\"%database_name, ['c'])"
   ]
  },
  {
   "cell_type": "code",
   "execution_count": 5,
   "metadata": {},
   "outputs": [
    {
     "name": "stdout",
     "output_type": "stream",
     "text": [
      "Bourdieu, P.|distinction social c (2330)\n",
      "Bourdieu, P.|distinction a social (17)\n",
      "Bourdieu, P.|distinctions social (22)\n",
      "Bourdieu, P.|distinction sociolog (6)\n",
      "Bourdieu, P.|distinction critique (153)\n",
      "Bourdieu, P.|distinction  social (4)\n",
      "Bourdieu, P.|distinction (696)\n",
      "\n",
      "Mathieson, A.|tourism ec phys soci (28)\n",
      "Mathieson, A.|tourism ec physical (58)\n",
      "\n",
      "Wahab, S.|tourism marketing (5)\n",
      "Wahab, S.|tourism management (4)\n",
      "\n",
      "Lash, S.|ec signs space (203)\n",
      "Lash, S.|ec signs spaces (8)\n",
      "Lash, S.|ec sign space (10)\n",
      "\n",
      "Pine, B.|experience ec work i (38)\n",
      "Pine, J.|experience ec work i (15)\n",
      "Pine, B.|experience ec (18)\n",
      "\n",
      "Scott, A.|cultural ec cities e (8)\n",
      "Scott, A.|cultural ec cities (11)\n",
      "\n",
      "Timothy, D.|heritage tourism (13)\n",
      "Timothy, D.|tourism (5)\n",
      "Timothy, D.|tourism political bo (12)\n",
      "\n",
      "Fennell, D.|ecotourism (7)\n",
      "Fennell, D.|ecotourism intro (10)\n",
      "\n",
      "Macnaghten, P.|contested natures (51)\n",
      "Macnaughten, P.|contested natures (5)\n",
      "\n",
      "Silverman, D.|interpreting qualita (255)\n",
      "Silverman, S.|interpreting qualita (3)\n",
      "\n",
      "Hall, C.|tourism planning pol (19)\n",
      "Hall, M.|tourism planning pol (3)\n",
      "\n",
      "Janis, I.|groupthink psychol s (15)\n",
      "Janis, I.|groupthink (8)\n",
      "\n",
      "Denzin, N.|qualitative inquiry (12)\n",
      "Denzin, N.|qualitative inquiry and the conservative challenge (6)\n",
      "\n",
      "Bourdieu, P.|logic practice (1021)\n",
      "Bourdieu, P.|logic of practice (4)\n",
      "Bourdieu, P.|the logic of practic (4)\n",
      "\n",
      "Cresswell, T.|place short intro (46)\n",
      "Cresswell, T.|place intro (7)\n",
      "\n",
      "Turner, V.|ritual process struc (212)\n",
      "Turner, V.|ritual process (169)\n",
      "Turner, V.|ritual theater (7)\n",
      "Turner, V.|ritual theatre human (49)\n",
      "\n",
      "Hackman, J.|work redesign (34)\n",
      "Hackman, R.|work redesign (7)\n",
      "\n",
      "Latour, B.|actor network theory (15)\n",
      "Latour, B.|actor network theory and after (43)\n",
      "\n",
      "Law, J.|org modernity (87)\n",
      "Law, J.|organizing modernity (12)\n",
      "\n",
      "Mol, A.|body multiple ontolo (198)\n",
      "Mol, A.|the body multiple (14)\n",
      "\n"
     ]
    }
   ],
   "source": [
    "# books\n",
    "\n",
    "import json\n",
    "toprint = 20\n",
    "printed = 0\n",
    "printi = 0\n",
    "while printed < toprint:\n",
    "    \n",
    "    myparts = [\"%s (%s)\" % (k,cits['c'][(k,)]) for k,v in groups.items() if v==printi]\n",
    "    printi += 1\n",
    "    \n",
    "    if len(myparts[0].split(\"|\")) != 2:\n",
    "        continue\n",
    "           \n",
    "    pstr = \"\\n\".join(myparts)\n",
    "    \n",
    "    \n",
    "    if len(myparts) == 1:\n",
    "        continue\n",
    "        \n",
    "    print(pstr)\n",
    "    print()\n",
    "    \n",
    "    printed += 1"
   ]
  },
  {
   "cell_type": "code",
   "execution_count": 6,
   "metadata": {},
   "outputs": [
    {
     "name": "stdout",
     "output_type": "stream",
     "text": [
      "Horwitz, S.|1992|am photo magazine,v3,p38 (2)\n",
      "Horwitz, S.|1992|am photo magazine,v3,p44 (2)\n",
      "Horwitz, S.|1992|am photo magazine,v3,p42 (2)\n",
      "Horwitz, S.|1992|am photo magazine,v3,p39 (2)\n",
      "\n",
      "Shryock, H.|1973|methods materials de,v1 (5)\n",
      "Shryock, H.|1973|methods materials de,v2 (5)\n",
      "Shryock, H.|1975|methods materials de,v1 (2)\n",
      "Shryock, H.|1975|methods materials de,v2 (2)\n",
      "\n",
      "Kendall, M.|1963|adv theory statistic,v1 (4)\n",
      "Kendall, M.|1973|adv theory statistic,v2 (6)\n",
      "Kendall, M.|1977|adv theory statistic,v1 (5)\n",
      "Kendall, M.|1958|adv theory statistic,v1 (2)\n",
      "\n",
      "Goldthorpe, J.|1977|sociology,v2 (2)\n",
      "Goldthorpe, J.|1978|sociology,v12 (4)\n",
      "Goldthorpe, J.|1977|sociology,v11 (7)\n",
      "Goldthorpe, J.|1973|sociology,v7 (4)\n",
      "\n",
      "Cook, P.|1977|police rev,v85,p1042 (2)\n",
      "Cook, P.|1977|police rev,v85,p1078 (2)\n",
      "Cook, P.|1977|police rev,v85,p1140 (2)\n",
      "Cook, P.|1977|police rev,v85,p1114 (2)\n",
      "\n",
      "Moutinho, L.|1987|eur j marketing,v21,p1 (16)\n",
      "Moutinho, L.|1987|eur j marketing,v21,p5 (11)\n",
      "Moutinho, L.|1987|eur j marketing,v21,p3 (6)\n",
      "\n",
      "Schawarz, N.|1999|well being fdn hedon,p61 (26)\n",
      "Schwarz, N.|1999|well being fdn hedon,p61 (11)\n",
      "Schwartz, N.|1999|well being fdn hedon,p61 (2)\n",
      "\n",
      "Coleman, J.|1988|am j sociol,v94,p95 (359)\n",
      "Coleman, J.|1988|am j sociol,v94,p595 (4)\n",
      "Coleman, J.|1988|am j sociol,v94,p94 (24)\n",
      "\n",
      "Granovetter, M.|1973|am j sociol,v78,p1360 (1332)\n",
      "Granovetter, M.|1973|am j sociol,v6,p1360 (7)\n",
      "Granovetter, M.|1973|am j sociol,v78,p1361 (3)\n",
      "\n",
      "Heckman, J.|1979|econometrica,v47,p153 (461)\n",
      "Heckman, J.|1979|econometrica,v47,p253 (3)\n",
      "Heckman, J.|1979|econometrica,v45,p153 (4)\n",
      "\n",
      "Snyder, D.|1979|am j sociol,v84,p1096 (136)\n",
      "Snyder, D.|1979|am j sociol,v84,p1109 (2)\n",
      "Snyder, D.|1979|am j sociol,v84,p1097 (7)\n",
      "\n",
      "Galtung, J.|1971|j peace res,v8,p81 (93)\n",
      "Galtung, J.|1971|j peace res,v2,p89 (3)\n",
      "Galtung, J.|1971|j peace res,v2,p81 (8)\n",
      "\n",
      "Stark, R.|1982|j res crime delinq,v19,p4 (65)\n",
      "Stark, R.|1982|j res crime delinq,v10,p4 (2)\n",
      "Stark, R.|1983|j res crime delinq,v20,p4 (8)\n",
      "\n",
      "Wodak, R.|2001|methods critical dis,p63 (33)\n",
      "Wodak, R.|2001|methods critical dis,p1 (11)\n",
      "Wodak, R.|2009|methods critical dis,p1 (13)\n",
      "\n",
      "Ricoeur, P.|1988|time narrative,v3 (21)\n",
      "Ricoeur, P.|1984|time narrative,v1 (40)\n",
      "Ricoeur, P.|1985|time narrative,v2 (10)\n",
      "\n",
      "Deleuze, G.|1987|1000 plateaus capita (148)\n",
      "Deleuze, G.|1980|1000 plateaus capita (6)\n",
      "Deleuze, G.|1988|1000 plateaus capita (50)\n",
      "\n",
      "Bourdieu, P.|1989|sociological theory,v71,p14 (42)\n",
      "Bourdieu, P.|1989|sociological theory,v7,p14 (140)\n",
      "Bourdieu, P.|1989|sociological theory,v7,p26 (28)\n",
      "\n",
      "Bibby, R.|1983|j sci stud relig,v22,p253 (14)\n",
      "Bibby, R.|1983|j sci stud relig,v22,p153 (6)\n",
      "Bibby, R.|1983|j sci stud relig,v22,p101 (10)\n",
      "\n",
      "Card, D.|1999|hdb labor ec,v3a,p1801 (12)\n",
      "Card, D.|1999|hdb labor ec,v3,p1801 (27)\n",
      "Card, D.|1999|hdb labor ec,v3,p1802 (4)\n",
      "\n",
      "Becker, H.|1967|soc probl,v14,p239 (154)\n",
      "Becker, H.|1967|soc probl,v14,p293 (2)\n",
      "Becker, H.|1976|soc probl,v14,p239 (2)\n",
      "\n"
     ]
    }
   ],
   "source": [
    "# articles\n",
    "\n",
    "import json\n",
    "toprint = 20\n",
    "printed = 0\n",
    "printi = 0\n",
    "    \n",
    "for gid, count in Counter(gid for x,gid in groups.items() if len(x.split(\"|\"))>2).most_common(toprint*2)[toprint:]:\n",
    "    \n",
    "    myparts = [\"%s (%s)\" % (k,cits['c'][(k,)]) for k,v in groups.items() if v==gid]\n",
    "    printi += 1\n",
    "    \n",
    "    if len(myparts[0].split(\"|\")) == 2:\n",
    "        continue\n",
    "    \n",
    "    if len(myparts) == 1:\n",
    "        continue\n",
    "        \n",
    "    pstr = \"\\n\".join(myparts)\n",
    "    \n",
    "    print(pstr)\n",
    "    print()\n",
    "    \n",
    "    printed += 1"
   ]
  },
  {
   "cell_type": "code",
   "execution_count": 7,
   "metadata": {},
   "outputs": [
    {
     "data": {
      "text/plain": [
       "[(43383, 8),\n",
       " (45416, 8),\n",
       " (53059, 6),\n",
       " (47211, 5),\n",
       " (105626, 4),\n",
       " (42059, 3),\n",
       " (43136, 3),\n",
       " (45314, 3),\n",
       " (45991, 3),\n",
       " (46835, 3)]"
      ]
     },
     "execution_count": 7,
     "metadata": {},
     "output_type": "execute_result"
    }
   ],
   "source": [
    "Counter(gid for x,gid in groups.items() if len(x.split(\"|\"))>2).most_common(10)"
   ]
  },
  {
   "cell_type": "code",
   "execution_count": null,
   "metadata": {},
   "outputs": [],
   "source": []
  }
 ],
 "metadata": {
  "kernelspec": {
   "display_name": "Python 3",
   "language": "python",
   "name": "python3"
  },
  "language_info": {
   "codemirror_mode": {
    "name": "ipython",
    "version": 3
   },
   "file_extension": ".py",
   "mimetype": "text/x-python",
   "name": "python",
   "nbconvert_exporter": "python",
   "pygments_lexer": "ipython3",
   "version": "3.7.5"
  }
 },
 "nbformat": 4,
 "nbformat_minor": 4
}
