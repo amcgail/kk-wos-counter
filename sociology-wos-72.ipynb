{
 "cells": [
  {
   "cell_type": "code",
   "execution_count": 2,
   "metadata": {},
   "outputs": [],
   "source": [
    "base_dir = \"G:/My Drive/2020 ORGANISATION/1. PROJECTS/qualitative analysis of literature/110 CITATION ANALYSIS/000 data/sociology wos\""
   ]
  },
  {
   "cell_type": "code",
   "execution_count": 3,
   "metadata": {},
   "outputs": [],
   "source": [
    "name_blacklist = [\n",
    "    \"*us\", 'Press', 'Knopf', '(January', 'Co', 'London', 'Bros', 'Books', 'Wilson','[anonymous]'\n",
    "]"
   ]
  },
  {
   "cell_type": "code",
   "execution_count": 4,
   "metadata": {},
   "outputs": [],
   "source": [
    "from knowknow import *\n",
    "from counter import wos_counter"
   ]
  },
  {
   "cell_type": "code",
   "execution_count": 5,
   "metadata": {},
   "outputs": [
    {
     "name": "stdout",
     "output_type": "stream",
     "text": [
      "loading variable sociology-wos-all/groups from disk\n",
      "loading variable sociology-wos-all/_attributes from disk\n"
     ]
    }
   ],
   "source": [
    "prelim_count = Dataset(\"sociology-wos-all\")"
   ]
  },
  {
   "cell_type": "code",
   "execution_count": 6,
   "metadata": {},
   "outputs": [
    {
     "name": "stdout",
     "output_type": "stream",
     "text": [
      "loading variable sociology-wos-74a/groups from disk\n",
      "loading variable sociology-wos-74a/group_reps from disk\n",
      "loading variable sociology-wos-74a/_attributes from disk\n"
     ]
    }
   ],
   "source": [
    "filtered = Dataset(\"sociology-wos-74a\")\n",
    "filtered.groupings = [] # clear... not yet"
   ]
  },
  {
   "cell_type": "code",
   "execution_count": 7,
   "metadata": {},
   "outputs": [
    {
     "name": "stdout",
     "output_type": "stream",
     "text": [
      "loading variable sociology-wos-74b/groups from disk\n",
      "loading variable sociology-wos-74b/_attributes from disk\n"
     ]
    }
   ],
   "source": [
    "final = Dataset('sociology-wos-74b')"
   ]
  },
  {
   "cell_type": "markdown",
   "metadata": {},
   "source": [
    "# Counting over the entire dataset"
   ]
  },
  {
   "cell_type": "code",
   "execution_count": 7,
   "metadata": {},
   "outputs": [],
   "source": [
    "if not prelim_count.exists():\n",
    "    cnt = wos_counter(\n",
    "        wos_txt_base = base_dir,\n",
    "        output_database = prelim_count.name,\n",
    "        RUN_EVERYTHING = False,\n",
    "        name_blacklist=name_blacklist\n",
    "    )\n",
    "    \n",
    "    cnt.run()"
   ]
  },
  {
   "cell_type": "code",
   "execution_count": 8,
   "metadata": {},
   "outputs": [],
   "source": [
    "prelim_count.set_attribute('RELIABLE_DATA_STARTS_HERE', 1960)\n",
    "prelim_count.set_attribute('RELIABLE_DATA_ENDS_HERE', 2015)\n",
    "prelim_count.set_attribute('type','wos')"
   ]
  },
  {
   "cell_type": "code",
   "execution_count": 4,
   "metadata": {},
   "outputs": [
    {
     "name": "stdout",
     "output_type": "stream",
     "text": [
      "loading variable sociology-wos-all/ind ___ fy from disk\n"
     ]
    },
    {
     "data": {
      "text/plain": [
       "2020"
      ]
     },
     "execution_count": 4,
     "metadata": {},
     "output_type": "execute_result"
    }
   ],
   "source": [
    "max( prelim_count.items('fy') )"
   ]
  },
  {
   "cell_type": "markdown",
   "metadata": {},
   "source": [
    "# Examine journals to determine what to drop"
   ]
  },
  {
   "cell_type": "code",
   "execution_count": 7,
   "metadata": {},
   "outputs": [],
   "source": [
    "zero_sofars = []\n",
    "# how I decide whether to keep a journal\n",
    "def filt(j):\n",
    "    \n",
    "    try:\n",
    "        tt = prelim_count.trend('fj', j)\n",
    "    except invalid_entry:\n",
    "        return False\n",
    "\n",
    "    # get the years for which there is a positive count of BIBLIOGRAPHIES\n",
    "    ys = set(y for y,c in tt._c.items() if c > 0)\n",
    "\n",
    "    # this is a weird error, probably requires me to rerun (rework for efficiency) my counting algos\n",
    "    # might even be reduced once I actually filter the journals\n",
    "    if not len(ys):\n",
    "        #raise Exception(\"no years for journal %s\" % j)\n",
    "        return False\n",
    "\n",
    "    # it must have been around for at least 10 years, with their first year being sometime before 1995\n",
    "    if not(\n",
    "        (max(ys)-min(ys) >= 10 and min(ys) <= 1995 and max(ys) >= 2015)\n",
    "    ): return False\n",
    "\n",
    "    # 5 years consecutively, then drop\n",
    "    ever_nonzero = False\n",
    "    zero_sofar = 0\n",
    "    zero_sofar_M = 0\n",
    "    for y in range(tt.data_start, tt.data_end):\n",
    "        c = tt._c[ y ]\n",
    "        \n",
    "        if c > 0:\n",
    "            ever_nonzero = True\n",
    "\n",
    "        if not ever_nonzero:\n",
    "            continue\n",
    "\n",
    "        if c == 0:\n",
    "            zero_sofar += 1\n",
    "        else:\n",
    "            zero_sofar_M = max(zero_sofar_M, zero_sofar)\n",
    "            zero_sofar = 0\n",
    "\n",
    "        if zero_sofar >= 5:\n",
    "            return False\n",
    "        \n",
    "    # at least 100 papers published total\n",
    "    if not(\n",
    "        prelim_count(fj=j).docs >= 100\n",
    "    ): return False\n",
    "    \n",
    "    zero_sofars.append(zero_sofar_M)\n",
    "    if zero_sofar_M > 0:\n",
    "        print(j,zero_sofar_M)\n",
    "\n",
    "    return True"
   ]
  },
  {
   "cell_type": "code",
   "execution_count": 8,
   "metadata": {},
   "outputs": [
    {
     "name": "stdout",
     "output_type": "stream",
     "text": [
      "loading variable sociology-wos-all/ind ___ fj from disk\n",
      "There are 312 journals total in `sociology-wos-all`\n",
      "loading variable sociology-wos-all/ind ___ fj.fy from disk\n",
      "loading variable sociology-wos-all/ind ___ fy from disk\n",
      "loading variable sociology-wos-all/doc ___ fj from disk\n",
      "acta sociologica 1\n",
      "american journal of economics and sociology 1\n",
      "american journal of sociology 1\n",
      "american sociological review 1\n",
      "journal of leisure research 1\n",
      "journal of marriage and family 1\n",
      "journal of the history of sexuality 1\n",
      "law & society review 3\n",
      "politics & society 3\n",
      "review of religious research 1\n",
      "social forces 1\n",
      "social problems 1\n",
      "social science quarterly 1\n",
      "sociologia 1\n",
      "sociologia ruralis 3\n",
      "sociological inquiry 1\n",
      "sociological quarterly 1\n",
      "sociological review 1\n",
      "sociology of education 1\n",
      "sociology of sport journal 1\n",
      "sociology-the journal of the british sociological association 1\n",
      "Only 73 meet my standards\n"
     ]
    }
   ],
   "source": [
    "journals = list(prelim_count.items('fj'))\n",
    "\n",
    "print( \"There are %s journals total in `%s`\" % (len(journals), prelim_count.name) )\n",
    "\n",
    "keep, drop = set(), set()\n",
    "for j in journals:\n",
    "    if filt(j):\n",
    "        keep.add(j)\n",
    "    else:\n",
    "        drop.add(j)\n",
    "        \n",
    "print( \"Only %s meet my standards\" % (len(keep) ) )"
   ]
  },
  {
   "cell_type": "code",
   "execution_count": 9,
   "metadata": {},
   "outputs": [
    {
     "data": {
      "text/plain": [
       "Counter({1: 18, 0: 52, 3: 3})"
      ]
     },
     "execution_count": 9,
     "metadata": {},
     "output_type": "execute_result"
    }
   ],
   "source": [
    "Counter(zero_sofars)"
   ]
  },
  {
   "cell_type": "markdown",
   "metadata": {},
   "source": [
    "## journals to keep"
   ]
  },
  {
   "cell_type": "code",
   "execution_count": 10,
   "metadata": {},
   "outputs": [
    {
     "name": "stdout",
     "output_type": "stream",
     "text": [
      "acta sociologica, american journal of economics and sociology, american journal of sociology, american sociological review, annals of tourism research, anthrozoos, archives europeennes de sociologie, armed forces & society, british journal of sociology, british journal of sociology of education, canadian journal of sociology-cahiers canadiens de sociologie, comparative studies in society and history, contributions to indian sociology, deviant behavior, discourse & society, economy and society, ethnic and racial studies, european sociological review, gender & society, human ecology, human studies, international journal of intercultural relations, international sociology, journal for the scientific study of religion, journal of contemporary ethnography, journal of health and social behavior, journal of historical sociology, journal of law and society, journal of leisure research, journal of marriage and family, journal of mathematical sociology, journal of the history of sexuality, language in society, law & society review, leisure sciences, media culture & society, poetics, politics & society, population and development review, race & class, rationality and society, review of religious research, rural sociology, social compass, social forces, social indicators research, social networks, social problems, social science quarterly, social science research, society, society & natural resources, sociologia, sociologia ruralis, sociological forum, sociological inquiry, sociological methods & research, sociological perspectives, sociological quarterly, sociological review, sociological spectrum, sociological theory, sociology of education, sociology of health & illness, sociology of religion, sociology of sport journal, sociology-the journal of the british sociological association, symbolic interaction, teaching sociology, theory and society, work and occupations, work employment and society, youth & society\n"
     ]
    }
   ],
   "source": [
    "print(\", \".join(sorted(keep)))"
   ]
  },
  {
   "cell_type": "markdown",
   "metadata": {},
   "source": [
    "## journals to drop"
   ]
  },
  {
   "cell_type": "code",
   "execution_count": 11,
   "metadata": {},
   "outputs": [
    {
     "name": "stdout",
     "output_type": "stream",
     "text": [
      "african sociological review, afro-american studies, ager-revista de estudios sobre despoblacion y desarrollo rural, agriculture and human values, american journal of cultural sociology, american sociologist, american west, anduli, annals of phenomenological sociology, annual review of sociology, applied social studies, archiv fur sozialwissenschaft und sozialpolitik, australian and new zealand journal of sociology, australian outlook, berliner journal fur soziologie, biodemography and social biology, bms-bulletin of sociological methodology-bulletin de methodologie sociologique, body & society, cahiers internationaux de sociologie, cambio-rivista sulle trasformazioni sociali, canadian graduate journal of sociology and criminology, canadian review of sociology and anthropology, canadian review of sociology and anthropology-revue canadienne de sociologie et d anthropologie, canadian review of sociology-revue canadienne de sociologie, center for settlement studies. occasional papers. university of manitoba, center for settlement studies. research reports. university of manitoba, center magazine, chinese sociological review, chinese sociology and anthropology, city & community, community work & family, comparative group studies, comparative sociology, contemporanea-revista de sociologia da ufscar, contemporary sociology-a journal of reviews, convergencia-revista de ciencias sociales, cornell hospitality quarterly, cornell hotel and restaurant administration quarterly, cornell journal of social relations, corvinus journal of sociology and social policy, cosmopolitan civil societies-an interdisciplinary journal, crime media culture, critical sociology, cultural sociology, current perspectives in social theory, current perspectives in social theory, suppl 1, 1994: recent developments in the theory of social structure, current perspectives in social theory, vol 15, 1995, current perspectives in social theory, vol 16, 1996, current pespectives in social theory, vol 17, 1997, current sociology, current sociology-sociologie contemporaine, deviance et societe, distinktion-journal of social theory, drustvena istrazivanja, du bois review-social science research on race, eastern european countryside, economic and social review, ethnography, ethology and sociobiology, etudes rurales, european journal of social theory, european societies, facing the challenge of risk and vulnerability in an information society, filosofija-sociologija, food culture & society, global networks-a journal of transnational affairs, health sociology review, historicka sociologie, human context, human ecology review, human nature, indian sociological bulletin, information communication & society, innovation-the european journal of social science research, intellect, international journal of comparative sociology, international journal of contemporary sociology, international journal of japanese sociology, international journal of sociology, international journal of sociology and social policy, international journal of sociology of education, international journal of sociology of the family, international journal of the sociology of law, international political sociology, international review for the sociology of sport, international review of modern sociology, international review of sociology-revue internationale de sociologie, international studies in sociology of education, interntational review of sociology, ipc monographs-institute of philippine culture, ipc papers-institute of philippine culture, istanbul journal of sociological studies-sosyoloji konferanslari, istanbul universitesi sosyoloji dergisi-istanbul university journal of sociology, jewish journal of sociology, journal of applied sociology, journal of classical sociology, journal of consumer culture, journal of cultural economy, journal of economic sociology-ekonomicheskaya sotsiologiya, journal of economy culture and society, journal of health and human behavior, journal of human relations, journal of immigrant & refugee studies, journal of intercultural studies, journal of marriage and the family, journal of political & military sociology, journal of professions and organization, journal of social forces, journal of sociology, journal of sociology and social welfare, journal of sport & social issues, journal of voluntary action research, journal of world-systems research, kolner zeitschrift fur soziologie und sozialpsychologie, latino studies, mass emergencies, mcs-masculinities and social change, men and masculinities, methaodos-revista de ciencias sociales, mid-american review of sociology, mobilization, multicultural perspectives, mundo agrario, national council for the social studies-bulletin, national council for the social studies-yearbook, nations and nationalism, netherlands journal of social sciences, osterreichische zeitschrift fuer soziologie, pacific sociological review, papers-revista de sociologia, philippine sociological review, phylon, play & culture, polish sociological bulletin, polish sociological review, praxis sociologica, quaderni di sociologia, qualitative research, qualitative sociology, quarterly journal of social affairs, race and social problems, research in social stratification and mobility, responsive community, revista colombiana de sociologia, revista espanola de investigaciones sociologicas, revista espanola de sociologia, revista internacional de organizaciones, revista internacional de sociologia, revue de l institut de sociologie, revue francaise de sociologie, rudn journal of sociology-vestnik rossiiskogo universiteta druzhby narodov seriya sotsiologiya, rural society, sage professional paper in contemporary political sociology series, scandinavian journal of hospitality and tourism, scottish journal of sociology, secularism & nonreligion, sexualities, social alternatives, social and economic administration, social behaviour, social biology, social currents, social education, social justice research, social movement studies, social science, social studies, social studies-irish journal of sociology, societamutamentopolitica-rivista italiana di sociologia, societas-a review of social history, societies, society & animals, society and mental health, socio-economic review, sociologia nauki i tehnologij-sociology of science & technology, sociologia neerlandica, sociologia y tecnociencia, sociologica-italian journal of sociology on line, sociological analysis, sociological analysis & theory, sociological bulletin, sociological focus, sociological methodology, sociological methodology 1993, vol 23, sociological methodology 1994, vol 24, sociological methodology 1995, vol 25, sociological methodology 1996, vol 26, sociological methodology 1997, vol 27, sociological methodology 1999, vol 29, sociological methodology 2000, vol 30, sociological methodology 2001, vol 31, sociological methodology 2002, vol 32, sociological methodology, vol 33, sociological methodology, vol. 28 1998, sociological practice, sociological research online, sociological review monograph, sociological science, sociological symposium, sociological theory and methods, sociologiceskoe obozrenie, sociologicky casopis, sociologicky casopis-czech sociological review, sociologie du travail, sociologija, sociologija i prostor, sociologisk forskning, sociologus, sociology and social research, sociology compass, sociology of race and ethnicity, sociology of work and occupations, sotsiologicheskie issledovaniya, south african review of sociology, southwestern social science quarterly, soviet sociology, soziale welt-zeitschrift fur sozialwissenschaftliche forschung und praxis, sport in society, studies in social life, studies in sociology, studies in symbolic interaction, studies in symbolic interaction - us, studies in symbolic interaction, vol 22, 1999, studies in symbolic interaction, vol 23, studies in symbolic interaction, vol 24, studies in symbolic interaction, vol 26, studies in symbolic interaction, vol 28, studies in symbolic interaction, vol 32, symbolic interaction and new social media, telos, tempo social, theoria, thesis eleven, turkish journal of sociology-sosyoloji dergisi, universal human rights, urban league review, virajes-revista de antropologia y sociologia, young, zeitschrift fur soziologie\n"
     ]
    }
   ],
   "source": [
    "print(\", \".join(sorted(drop)))"
   ]
  },
  {
   "cell_type": "markdown",
   "metadata": {},
   "source": [
    "# compute counts over just these selected journals"
   ]
  },
  {
   "cell_type": "code",
   "execution_count": 37,
   "metadata": {},
   "outputs": [
    {
     "name": "stdout",
     "output_type": "stream",
     "text": [
      "File 0/386: 74501-75000.txt\n",
      "Document: 0\n",
      "Citations: 0\n",
      "File 50/386: 3501-4000.txt\n",
      "Document: 10276\n",
      "Citations: 305043\n",
      "File 100/386: 28501-29000.txt\n",
      "Document: 19502\n",
      "Citations: 575931\n",
      "File 150/386: 53501-54000.txt\n",
      "Document: 28876\n",
      "Citations: 783578\n",
      "File 200/386: 4501-5000.txt\n",
      "Document: 39815\n",
      "Citations: 984788\n",
      "File 250/386: 29501-30000.txt\n",
      "Document: 57003\n",
      "Citations: 1262270\n",
      "File 300/386: 54501-55000.txt\n",
      "Document: 75537\n",
      "Citations: 1521073\n",
      "File 350/386: 79501-80000.txt\n",
      "Document: 88298\n",
      "Citations: 1652774\n",
      "loading variable sociology-wos-74a/groups from disk\n",
      "loading variable sociology-wos-74a/group_reps from disk\n",
      "loading variable sociology-wos-74a/groups from disk\n",
      "loading variable sociology-wos-74a/group_reps from disk\n",
      "loading variable sociology-wos-74a/groups from disk\n",
      "loading variable sociology-wos-74a/group_reps from disk\n",
      "loading variable sociology-wos-74a/groups from disk\n",
      "loading variable sociology-wos-74a/group_reps from disk\n",
      "loading variable sociology-wos-74a/groups from disk\n",
      "loading variable sociology-wos-74a/group_reps from disk\n",
      "loading variable sociology-wos-74a/groups from disk\n",
      "loading variable sociology-wos-74a/group_reps from disk\n",
      "loading variable sociology-wos-74a/groups from disk\n",
      "loading variable sociology-wos-74a/group_reps from disk\n",
      "loading variable sociology-wos-74a/groups from disk\n",
      "loading variable sociology-wos-74a/group_reps from disk\n",
      "loading variable sociology-wos-74a/groups from disk\n",
      "loading variable sociology-wos-74a/group_reps from disk\n",
      "loading variable sociology-wos-74a/groups from disk\n",
      "loading variable sociology-wos-74a/group_reps from disk\n",
      "loading variable sociology-wos-74a/groups from disk\n",
      "loading variable sociology-wos-74a/group_reps from disk\n",
      "loading variable sociology-wos-74a/groups from disk\n",
      "loading variable sociology-wos-74a/group_reps from disk\n",
      "loading variable sociology-wos-74a/groups from disk\n",
      "loading variable sociology-wos-74a/group_reps from disk\n",
      "loading variable sociology-wos-74a/groups from disk\n",
      "loading variable sociology-wos-74a/group_reps from disk\n"
     ]
    }
   ],
   "source": [
    "if not filtered.exists() or True:\n",
    "    # clear the groups, this shouldn't happen yet.\n",
    "    cnt = wos_counter(\n",
    "        wos_txt_base = base_dir,\n",
    "        output_database = filtered.name,\n",
    "        RUN_EVERYTHING = False,\n",
    "        name_blacklist=name_blacklist,\n",
    "        journals_filter=keep\n",
    "    )\n",
    "    \n",
    "    cnt.run()"
   ]
  },
  {
   "cell_type": "code",
   "execution_count": 38,
   "metadata": {},
   "outputs": [],
   "source": [
    "filtered.set_attribute('RELIABLE_DATA_STARTS_HERE', 1960)\n",
    "filtered.set_attribute('RELIABLE_DATA_ENDS_HERE', 2015)\n",
    "filtered.set_attribute('type','wos')"
   ]
  },
  {
   "cell_type": "markdown",
   "metadata": {},
   "source": [
    "# now compute summary statistics about citations.\n",
    "\n",
    "There are many we will want to exclude for almost all analyses, in order to keep more cooccurrence counts"
   ]
  },
  {
   "cell_type": "code",
   "execution_count": 15,
   "metadata": {},
   "outputs": [
    {
     "name": "stdout",
     "output_type": "stream",
     "text": [
      "loading variable sociology-wos-74a/groups from disk\n",
      "loading variable sociology-wos-74a/group_reps from disk\n",
      "loading variable sociology-wos-74a/ind ___ c from disk\n",
      "Item 0/1705081 ('Abbasi, I.|dawlat i pahlavi va)\n",
      "Current memory usage is 344.665238MB; Peak was 866.211967MB\n",
      "defaultdict(<class 'int'>, {})\n",
      "loading variable sociology-wos-74a/doc ___ c from disk\n",
      "loading variable sociology-wos-74a/ind ___ c.fy from disk\n",
      "loading variable sociology-wos-74a/ind ___ fy from disk\n",
      "Item 50000/1705081 (Apple, M.|2010|educ researcher,v39,p152)\n",
      "Current memory usage is 1339.450226MB; Peak was 1815.714224MB\n",
      "defaultdict(<class 'int'>, {'at least one citation': 50000, 'less than 5 citations... dropped.2': 46577, 'not enough parts': 16, 'less than 5 citations... dropped.': 769, 'passed tests pre-blacklist': 2561, 'invalid entry': 77})\n",
      "Item 100000/1705081 (Baslevent, C.|2014|soc indic res,v118,p33)\n",
      "Current memory usage is 1357.022018MB; Peak was 1815.714224MB\n",
      "defaultdict(<class 'int'>, {'at least one citation': 100000, 'less than 5 citations... dropped.2': 93358, 'not enough parts': 21, 'less than 5 citations... dropped.': 1470, 'passed tests pre-blacklist': 5006, 'invalid entry': 142, 'first citation before pub date': 3})\n",
      "Item 150000/1705081 (Bishop, R.|ec valuation natural)\n",
      "Current memory usage is 1376.786598MB; Peak was 1815.714224MB\n",
      "defaultdict(<class 'int'>, {'at least one citation': 150000, 'less than 5 citations... dropped.2': 139715, 'not enough parts': 26, 'less than 5 citations... dropped.': 2199, 'passed tests pre-blacklist': 7840, 'invalid entry': 214, 'first citation before pub date': 6})\n",
      "Item 200000/1705081 (Brinkhaus, H.|change continuity st)\n",
      "Current memory usage is 1397.64151MB; Peak was 1815.714224MB\n",
      "defaultdict(<class 'int'>, {'at least one citation': 200000, 'less than 5 citations... dropped.2': 185851, 'not enough parts': 34, 'less than 5 citations... dropped.': 2968, 'passed tests pre-blacklist': 10829, 'invalid entry': 309, 'first citation before pub date': 9})\n",
      "Item 250000/1705081 (Carino, M.|2009|global environ chang,v2,p54)\n",
      "Current memory usage is 1417.035626MB; Peak was 1815.714224MB\n",
      "defaultdict(<class 'int'>, {'at least one citation': 250000, 'less than 5 citations... dropped.2': 232335, 'not enough parts': 42, 'less than 5 citations... dropped.': 3648, 'passed tests pre-blacklist': 13570, 'invalid entry': 395, 'first citation before pub date': 10})\n",
      "Item 300000/1705081 (Clogg, C.|sociological methodo)\n",
      "Current memory usage is 1433.94925MB; Peak was 1815.714224MB\n",
      "defaultdict(<class 'int'>, {'at least one citation': 300000, 'less than 5 citations... dropped.2': 279233, 'not enough parts': 48, 'less than 5 citations... dropped.': 4355, 'passed tests pre-blacklist': 15873, 'invalid entry': 479, 'first citation before pub date': 12})\n",
      "Item 350000/1705081 (Cusick, P.|equalitarian ideal a)\n",
      "Current memory usage is 1454.15061MB; Peak was 1815.714224MB\n",
      "defaultdict(<class 'int'>, {'at least one citation': 350000, 'less than 5 citations... dropped.2': 325498, 'not enough parts': 59, 'less than 5 citations... dropped.': 5045, 'passed tests pre-blacklist': 18830, 'invalid entry': 553, 'first citation before pub date': 15})\n",
      "Item 400000/1705081 (Dilatush, L.|women changing japan)\n",
      "Current memory usage is 1470.541758MB; Peak was 1815.714224MB\n",
      "defaultdict(<class 'int'>, {'at least one citation': 400000, 'less than 5 citations... dropped.2': 372471, 'not enough parts': 71, 'less than 5 citations... dropped.': 5681, 'passed tests pre-blacklist': 21129, 'invalid entry': 630, 'first citation before pub date': 18})\n",
      "Item 450000/1705081 (Elliott, J.|empires atlantic wor)\n",
      "Current memory usage is 1490.285233MB; Peak was 1815.714224MB\n",
      "defaultdict(<class 'int'>, {'at least one citation': 450000, 'less than 5 citations... dropped.2': 418915, 'not enough parts': 77, 'less than 5 citations... dropped.': 6352, 'passed tests pre-blacklist': 23941, 'invalid entry': 697, 'first citation before pub date': 18})\n",
      "Item 500000/1705081 (Fisher, R.|1927|am mercury,v11,p395)\n",
      "Current memory usage is 1510.016726MB; Peak was 1815.714224MB\n",
      "defaultdict(<class 'int'>, {'at least one citation': 500000, 'less than 5 citations... dropped.2': 465267, 'not enough parts': 85, 'less than 5 citations... dropped.': 7059, 'passed tests pre-blacklist': 26792, 'invalid entry': 778, 'first citation before pub date': 19})\n",
      "Item 550000/1705081 (Gardner, K.|age narratives migra)\n",
      "Current memory usage is 1530.138102MB; Peak was 1815.714224MB\n",
      "defaultdict(<class 'int'>, {'at least one citation': 550000, 'less than 5 citations... dropped.2': 511550, 'not enough parts': 96, 'less than 5 citations... dropped.': 7753, 'passed tests pre-blacklist': 29743, 'invalid entry': 838, 'first citation before pub date': 20})\n",
      "Item 600000/1705081 (Gould, W.|japans reshaping am)\n",
      "Current memory usage is 1549.79759MB; Peak was 1815.714224MB\n",
      "defaultdict(<class 'int'>, {'at least one citation': 600000, 'less than 5 citations... dropped.2': 557885, 'not enough parts': 105, 'less than 5 citations... dropped.': 8471, 'passed tests pre-blacklist': 32619, 'invalid entry': 898, 'first citation before pub date': 22})\n",
      "Item 650000/1705081 (Hamner, W.|1974|organ behav hum perf,v12,p217)\n",
      "Current memory usage is 1569.629218MB; Peak was 1815.714224MB\n",
      "defaultdict(<class 'int'>, {'at least one citation': 650000, 'less than 5 citations... dropped.2': 604227, 'not enough parts': 109, 'less than 5 citations... dropped.': 9125, 'passed tests pre-blacklist': 35549, 'invalid entry': 968, 'first citation before pub date': 22})\n",
      "Item 700000/1705081 (Higgins, E.|1989|adv expt social psyc,v22)\n",
      "Current memory usage is 1588.36803MB; Peak was 1815.714224MB\n",
      "defaultdict(<class 'int'>, {'at least one citation': 700000, 'less than 5 citations... dropped.2': 650775, 'not enough parts': 117, 'less than 5 citations... dropped.': 9779, 'passed tests pre-blacklist': 38282, 'invalid entry': 1023, 'first citation before pub date': 24})\n",
      "Item 750000/1705081 (Ianzhul, I.|1910|vospominaniia,v2,p126)\n",
      "Current memory usage is 1607.626382MB; Peak was 1815.714224MB\n",
      "defaultdict(<class 'int'>, {'at least one citation': 750000, 'less than 5 citations... dropped.2': 697216, 'not enough parts': 125, 'less than 5 citations... dropped.': 10436, 'passed tests pre-blacklist': 41110, 'invalid entry': 1087, 'first citation before pub date': 26})\n",
      "Item 800000/1705081 (Kabunda, M.|multinational firms)\n",
      "Current memory usage is 1792.811913MB; Peak was 1948.36335MB\n",
      "defaultdict(<class 'int'>, {'at least one citation': 800000, 'less than 5 citations... dropped.2': 744018, 'not enough parts': 133, 'less than 5 citations... dropped.': 11069, 'passed tests pre-blacklist': 43598, 'invalid entry': 1155, 'first citation before pub date': 27})\n",
      "Item 850000/1705081 (Klemke, L.|1990|deviant behav,v2,p261)\n",
      "Current memory usage is 1812.476474MB; Peak was 1948.36335MB\n",
      "defaultdict(<class 'int'>, {'at least one citation': 850000, 'less than 5 citations... dropped.2': 790641, 'not enough parts': 139, 'less than 5 citations... dropped.': 11704, 'passed tests pre-blacklist': 46277, 'invalid entry': 1209, 'first citation before pub date': 30})\n",
      "Item 900000/1705081 (Latour, B.|sci passionate inter)\n",
      "Current memory usage is 1829.913302MB; Peak was 1948.36335MB\n",
      "defaultdict(<class 'int'>, {'at least one citation': 900000, 'less than 5 citations... dropped.2': 837439, 'not enough parts': 145, 'less than 5 citations... dropped.': 12354, 'passed tests pre-blacklist': 48743, 'invalid entry': 1288, 'first citation before pub date': 31})\n",
      "Item 950000/1705081 (Livingston, R.|1964|monthly lab rev,v87)\n",
      "Current memory usage is 1848.774989MB; Peak was 1948.36335MB\n",
      "defaultdict(<class 'int'>, {'at least one citation': 950000, 'less than 5 citations... dropped.2': 883963, 'not enough parts': 147, 'less than 5 citations... dropped.': 13011, 'passed tests pre-blacklist': 51496, 'invalid entry': 1352, 'first citation before pub date': 31})\n",
      "Item 1000000/1705081 (Marino, R.|case hist toxic wast)\n",
      "Current memory usage is 1866.045658MB; Peak was 1948.36335MB\n",
      "defaultdict(<class 'int'>, {'at least one citation': 1000000, 'less than 5 citations... dropped.2': 930771, 'not enough parts': 156, 'less than 5 citations... dropped.': 13665, 'passed tests pre-blacklist': 53963, 'invalid entry': 1414, 'first citation before pub date': 31})\n",
      "Item 1050000/1705081 (Meir, A.|territoriality negev)\n",
      "Current memory usage is 1885.63133MB; Peak was 1948.36335MB\n",
      "defaultdict(<class 'int'>, {'at least one citation': 1050000, 'less than 5 citations... dropped.2': 977161, 'not enough parts': 162, 'less than 5 citations... dropped.': 14336, 'passed tests pre-blacklist': 56836, 'invalid entry': 1472, 'first citation before pub date': 33})\n",
      "Item 1100000/1705081 (Mosher, D.|2012|ann rev sex res,v2,p199)\n",
      "Current memory usage is 1903.827254MB; Peak was 1948.36335MB\n",
      "defaultdict(<class 'int'>, {'at least one citation': 1100000, 'less than 5 citations... dropped.2': 1023793, 'not enough parts': 166, 'less than 5 citations... dropped.': 15019, 'passed tests pre-blacklist': 59447, 'invalid entry': 1540, 'first citation before pub date': 35})\n",
      "Item 1150000/1705081 (O', C.|natural causes essay)\n",
      "Current memory usage is 1919.853541MB; Peak was 1948.36335MB\n",
      "defaultdict(<class 'int'>, {'at least one citation': 1150000, 'less than 5 citations... dropped.2': 1070852, 'not enough parts': 171, 'less than 5 citations... dropped.': 15656, 'passed tests pre-blacklist': 61686, 'invalid entry': 1599, 'first citation before pub date': 36})\n",
      "Item 1200000/1705081 (Pedersen, S.|tradisjonell kunnska)\n",
      "Current memory usage is 1936.81649MB; Peak was 1948.36335MB\n",
      "defaultdict(<class 'int'>, {'at least one citation': 1200000, 'less than 5 citations... dropped.2': 1117719, 'not enough parts': 181, 'less than 5 citations... dropped.': 16295, 'passed tests pre-blacklist': 64115, 'invalid entry': 1653, 'first citation before pub date': 37})\n",
      "Item 1250000/1705081 (Pukulski, J.|death class)\n",
      "Current memory usage is 1954.811954MB; Peak was 1954.816294MB\n",
      "defaultdict(<class 'int'>, {'at least one citation': 1250000, 'less than 5 citations... dropped.2': 1164405, 'not enough parts': 190, 'less than 5 citations... dropped.': 16988, 'passed tests pre-blacklist': 66643, 'invalid entry': 1737, 'first citation before pub date': 37})\n",
      "Item 1300000/1705081 (Robinson, J.|1989|j commun,v39,p105)\n",
      "Current memory usage is 1971.289273MB; Peak was 1971.295713MB\n",
      "defaultdict(<class 'int'>, {'at least one citation': 1300000, 'less than 5 citations... dropped.2': 1211384, 'not enough parts': 198, 'less than 5 citations... dropped.': 17619, 'passed tests pre-blacklist': 68962, 'invalid entry': 1800, 'first citation before pub date': 37})\n",
      "Item 1350000/1705081 (Sapir, E.|1931|encyclopedia social,v6)\n",
      "Current memory usage is 1989.849662MB; Peak was 1989.853849MB\n",
      "defaultdict(<class 'int'>, {'at least one citation': 1350000, 'less than 5 citations... dropped.2': 1257957, 'not enough parts': 204, 'less than 5 citations... dropped.': 18252, 'passed tests pre-blacklist': 71705, 'invalid entry': 1845, 'first citation before pub date': 37})\n",
      "Item 1400000/1705081 (Shedd, C.|celebration bedroom)\n",
      "Current memory usage is 2009.348478MB; Peak was 2009.35394MB\n",
      "defaultdict(<class 'int'>, {'at least one citation': 1400000, 'less than 5 citations... dropped.2': 1304360, 'not enough parts': 211, 'less than 5 citations... dropped.': 18935, 'passed tests pre-blacklist': 74549, 'invalid entry': 1904, 'first citation before pub date': 41})\n",
      "Item 1450000/1705081 (Southall, I.|woomera)\n",
      "Current memory usage is 2028.899746MB; Peak was 2028.905207MB\n",
      "defaultdict(<class 'int'>, {'at least one citation': 1450000, 'less than 5 citations... dropped.2': 1350759, 'not enough parts': 221, 'less than 5 citations... dropped.': 19618, 'passed tests pre-blacklist': 77407, 'invalid entry': 1953, 'first citation before pub date': 42})\n",
      "Item 1500000/1705081 (Szabo, M.|2014|women stud int forum,v44,p228)\n",
      "Current memory usage is 2048.097885MB; Peak was 2048.104539MB\n",
      "defaultdict(<class 'int'>, {'at least one citation': 1500000, 'less than 5 citations... dropped.2': 1397217, 'not enough parts': 230, 'less than 5 citations... dropped.': 20320, 'passed tests pre-blacklist': 80162, 'invalid entry': 2029, 'first citation before pub date': 42})\n",
      "Item 1550000/1705081 (Tuckman, H.|nonprofit sector res)\n",
      "Current memory usage is 2065.281982MB; Peak was 2065.287352MB\n",
      "defaultdict(<class 'int'>, {'at least one citation': 1550000, 'less than 5 citations... dropped.2': 1444033, 'not enough parts': 237, 'less than 5 citations... dropped.': 20950, 'passed tests pre-blacklist': 82656, 'invalid entry': 2080, 'first citation before pub date': 44})\n",
      "Item 1600000/1705081 (Walker, A.|1978|social sci q,v59,p553)\n",
      "Current memory usage is 2082.867314MB; Peak was 2082.872546MB\n",
      "defaultdict(<class 'int'>, {'at least one citation': 1600000, 'less than 5 citations... dropped.2': 1490816, 'not enough parts': 246, 'less than 5 citations... dropped.': 21634, 'passed tests pre-blacklist': 85083, 'invalid entry': 2175, 'first citation before pub date': 46})\n",
      "Item 1650000/1705081 (Williams, N.|care series)\n",
      "Current memory usage is 2104.814885MB; Peak was 2104.82036MB\n",
      "defaultdict(<class 'int'>, {'at least one citation': 1650000, 'less than 5 citations... dropped.2': 1537251, 'not enough parts': 255, 'less than 5 citations... dropped.': 22321, 'passed tests pre-blacklist': 87896, 'invalid entry': 2229, 'first citation before pub date': 48})\n",
      "Item 1700000/1705081 (Zimicki, S.|1985|63 ctr diarrh dis re)\n",
      "Current memory usage is 2122.847434MB; Peak was 2122.851661MB\n",
      "defaultdict(<class 'int'>, {'at least one citation': 1700000, 'less than 5 citations... dropped.2': 1583925, 'not enough parts': 265, 'less than 5 citations... dropped.': 22965, 'passed tests pre-blacklist': 90508, 'invalid entry': 2289, 'first citation before pub date': 48})\n",
      "success!\n"
     ]
    }
   ],
   "source": [
    "if True:\n",
    "    t = ttDF(\n",
    "        dataset_name = filtered.name,\n",
    "        dtype = 'c',\n",
    "        debug=False\n",
    "    ).run()"
   ]
  },
  {
   "cell_type": "code",
   "execution_count": 16,
   "metadata": {},
   "outputs": [
    {
     "name": "stdout",
     "output_type": "stream",
     "text": [
      "loading variable sociology-wos-74a/c.ysum from disk\n"
     ]
    },
    {
     "data": {
      "text/plain": [
       "90796"
      ]
     },
     "execution_count": 16,
     "metadata": {},
     "output_type": "execute_result"
    }
   ],
   "source": [
    "len( filtered.load_variable('c.ysum') )"
   ]
  },
  {
   "cell_type": "markdown",
   "metadata": {},
   "source": [
    "# and group those which make the cut"
   ]
  },
  {
   "cell_type": "code",
   "execution_count": 17,
   "metadata": {},
   "outputs": [
    {
     "name": "stdout",
     "output_type": "stream",
     "text": [
      "loading variable sociology-wos-74a/c.ysum from disk\n",
      "90796 strings total...\n",
      "sample articles: ['Aalen, O.|1978|ann stat,v6,p701', 'Aaronson, D.|1998|j hum resour,v33,p915', 'Aaronson, D.|2000|j urban econ,v47,p356', 'Aaronson, N.|1993|j natl cancer i,v85,p365', 'Aarts, O.|2008|rev relig res,v50,p16', 'Aas, C.|2005|ann tourism res,v32,p28', 'Aassve, A.|2002|j eur soc policy,v12,p259', 'Aassve, A.|2003|demography,v40,p105', 'Aassve, A.|2007|eur j popul,v23,p315', 'Abberley, P.|1987|disability handicap,v2,p5']\n",
      "sample books: ['Aaker, D.|managing brand equit', 'Aapola, S.|young femininity gir', 'Aaron, H.|painful prescription', 'Aaron, H.|politics professors', 'Aaron, H.|studies ec income ma', 'Aaron, H.|who pays property ta', 'Abbas, T.|muslim britain commu', 'Abbey, A.|res quality life', 'Abbey, E.|monkey wrench gang', 'Abbot, A.|what is case explori']\n",
      "49930 articles, 39407 books to group\n",
      "8694 books have some connection to others in a group\n",
      "34500 groups total\n",
      "[(32736, 23), (16710, 19), (8809, 18), (10651, 17), (33904, 14), (12626, 12), (29133, 10), (8811, 9), (10944, 9), (28863, 9)]\n",
      "1063 articles have some connection to others in a group\n",
      "39407 books and 49930 articles total\n"
     ]
    }
   ],
   "source": [
    "# note that unfortunately this currently requires YSUM\n",
    "#   and thus will be based on the filters embedded in that...\n",
    "#   AND these decisions will propagate further, because counters only consider if they're in the groups\n",
    "# some decisions need to be made here...\n",
    "if True:\n",
    "    from grouper import Grouper\n",
    "    g = Grouper(dataset=filtered)\n",
    "    g.run()"
   ]
  },
  {
   "cell_type": "markdown",
   "metadata": {},
   "source": [
    "# recount on this focused group, grouping citations"
   ]
  },
  {
   "cell_type": "code",
   "execution_count": 12,
   "metadata": {},
   "outputs": [
    {
     "name": "stdout",
     "output_type": "stream",
     "text": [
      "loading variable sociology-wos-74a/groups from disk\n",
      "loading variable sociology-wos-74a/group_reps from disk\n",
      "File 0/386: 74501-75000.txt\n",
      "Document: 0\n",
      "Citations: 0\n",
      "File 50/386: 3501-4000.txt\n",
      "Document: 10276\n",
      "Citations: 53549\n",
      "File 100/386: 28501-29000.txt\n",
      "Document: 19502\n",
      "Citations: 60119\n",
      "File 150/386: 53501-54000.txt\n",
      "Document: 28876\n",
      "Citations: 64835\n",
      "File 200/386: 4501-5000.txt\n",
      "Document: 39815\n",
      "Citations: 69550\n",
      "File 250/386: 29501-30000.txt\n",
      "Document: 57003\n",
      "Citations: 77116\n",
      "File 300/386: 54501-55000.txt\n",
      "Document: 75537\n",
      "Citations: 82486\n",
      "File 350/386: 79501-80000.txt\n",
      "Document: 88298\n",
      "Citations: 83837\n",
      "File 0/386: 74501-75000.txt\n",
      "Document: 0\n",
      "Citations: 83858\n",
      "File 50/386: 3501-4000.txt\n",
      "Document: 10276\n",
      "Citations: 83858\n",
      "File 100/386: 28501-29000.txt\n",
      "Document: 19502\n",
      "Citations: 83858\n",
      "File 150/386: 53501-54000.txt\n",
      "Document: 28876\n",
      "Citations: 83858\n",
      "File 200/386: 4501-5000.txt\n",
      "Document: 39815\n",
      "Citations: 83858\n",
      "File 250/386: 29501-30000.txt\n",
      "Document: 57003\n",
      "Citations: 83858\n",
      "File 300/386: 54501-55000.txt\n",
      "Document: 75537\n",
      "Citations: 83858\n",
      "File 350/386: 79501-80000.txt\n",
      "Document: 88298\n",
      "Citations: 83858\n",
      "# allowed references for cocitation analysis: 1000\n",
      "Examples: ['Alba, R.|ethnic identity tran', 'Liebow, E.|tallys corner', 'Dimaggio, P.|1997|annu rev sociol,v23,p263']\n",
      "File 0/386: 74501-75000.txt\n",
      "Document: 0\n",
      "Citations: 83858\n",
      "10000 cocitations logged\n",
      "20000 cocitations logged\n",
      "30000 cocitations logged\n",
      "40000 cocitations logged\n",
      "50000 cocitations logged\n",
      "60000 cocitations logged\n",
      "70000 cocitations logged\n",
      "File 50/386: 3501-4000.txt\n",
      "Document: 10276\n",
      "Citations: 83858\n",
      "80000 cocitations logged\n",
      "90000 cocitations logged\n",
      "100000 cocitations logged\n",
      "110000 cocitations logged\n",
      "120000 cocitations logged\n",
      "130000 cocitations logged\n",
      "File 100/386: 28501-29000.txt\n",
      "Document: 19502\n",
      "Citations: 83858\n",
      "140000 cocitations logged\n",
      "150000 cocitations logged\n",
      "160000 cocitations logged\n",
      "170000 cocitations logged\n",
      "180000 cocitations logged\n",
      "190000 cocitations logged\n",
      "200000 cocitations logged\n",
      "File 150/386: 53501-54000.txt\n",
      "Document: 28876\n",
      "Citations: 83858\n",
      "210000 cocitations logged\n",
      "220000 cocitations logged\n",
      "230000 cocitations logged\n",
      "240000 cocitations logged\n",
      "250000 cocitations logged\n",
      "260000 cocitations logged\n",
      "270000 cocitations logged\n",
      "280000 cocitations logged\n",
      "290000 cocitations logged\n",
      "File 200/386: 4501-5000.txt\n",
      "Document: 39815\n",
      "Citations: 83858\n",
      "300000 cocitations logged\n",
      "310000 cocitations logged\n",
      "320000 cocitations logged\n",
      "330000 cocitations logged\n",
      "340000 cocitations logged\n",
      "350000 cocitations logged\n",
      "360000 cocitations logged\n",
      "370000 cocitations logged\n",
      "380000 cocitations logged\n",
      "390000 cocitations logged\n",
      "400000 cocitations logged\n",
      "410000 cocitations logged\n",
      "File 250/386: 29501-30000.txt\n",
      "Document: 57003\n",
      "Citations: 83858\n",
      "420000 cocitations logged\n",
      "430000 cocitations logged\n",
      "440000 cocitations logged\n",
      "450000 cocitations logged\n",
      "460000 cocitations logged\n",
      "470000 cocitations logged\n",
      "480000 cocitations logged\n",
      "490000 cocitations logged\n",
      "500000 cocitations logged\n",
      "510000 cocitations logged\n",
      "520000 cocitations logged\n",
      "File 300/386: 54501-55000.txt\n",
      "Document: 75537\n",
      "Citations: 83858\n",
      "530000 cocitations logged\n",
      "540000 cocitations logged\n",
      "550000 cocitations logged\n",
      "560000 cocitations logged\n",
      "570000 cocitations logged\n",
      "File 350/386: 79501-80000.txt\n",
      "Document: 88298\n",
      "Citations: 83858\n",
      "580000 cocitations logged\n",
      "Finished cocitation logging!\n",
      "loading variable sociology-wos-74b/groups from disk\n",
      "loading variable sociology-wos-74b/group_reps from disk\n"
     ]
    }
   ],
   "source": [
    "#toload = ['fj','fy','ty','c.fy','c.fj','fj.fy','c','fy.ty','fj.ty','ta','fy.ta','fj.ta','c.fj.fy','ffa','ffa.fy','ffa.fj','c.ffa','fa','fa.fy','fa.fj','c.fa']\n",
    "\n",
    "if not final.exists() or True:\n",
    "    cnt = wos_counter(\n",
    "        wos_txt_base = base_dir,\n",
    "        output_database = final.name,\n",
    "        RUN_EVERYTHING = True,\n",
    "        name_blacklist=name_blacklist,\n",
    "        journals_filter= keep,\n",
    "        groups= filtered.load_variable('groups'),\n",
    "        group_reps= filtered.load_variable('group_reps'),\n",
    "        #debug=True\n",
    "    )\n",
    "    \n",
    "    if True:\n",
    "        cnt.run()\n",
    "    else:\n",
    "        for k in toload:\n",
    "            cnt.doc[k] = final.by(*k.split(\".\")).docs\n",
    "            cnt.ind[k] = final.by(*k.split(\".\")).cits\n",
    "            \n",
    "        cnt.count_ages()\n",
    "    \n",
    "    final.set_attribute('RELIABLE_DATA_STARTS_HERE', 1960)\n",
    "    final.set_attribute('RELIABLE_DATA_ENDS_HERE', 2015)\n",
    "    final.set_attribute('type','wos')"
   ]
  },
  {
   "cell_type": "markdown",
   "metadata": {},
   "source": [
    "# do the simple string grouper, finally..."
   ]
  },
  {
   "cell_type": "code",
   "execution_count": 9,
   "metadata": {},
   "outputs": [
    {
     "name": "stdout",
     "output_type": "stream",
     "text": [
      "loading variable sociology-wos-74b/ind ___ c from disk\n"
     ]
    }
   ],
   "source": [
    "grp = require('wos-counter/grouper/SimpleStringGrouper')\n",
    "grp(final).run()"
   ]
  },
  {
   "cell_type": "code",
   "execution_count": 12,
   "metadata": {},
   "outputs": [
    {
     "data": {
      "text/plain": [
       "366"
      ]
     },
     "execution_count": 12,
     "metadata": {},
     "output_type": "execute_result"
    }
   ],
   "source": [
    "final(c='Andrews, F.|social indicators we').cits"
   ]
  },
  {
   "cell_type": "code",
   "execution_count": 13,
   "metadata": {},
   "outputs": [
    {
     "name": "stdout",
     "output_type": "stream",
     "text": [
      "loading variable sociology-wos-74b/ind ___ c.fy from disk\n",
      "loading variable sociology-wos-74b/ind ___ fy from disk\n"
     ]
    }
   ],
   "source": [
    "t = final.trend('c', 'Andrews, F.|social indicators we')"
   ]
  },
  {
   "cell_type": "code",
   "execution_count": 14,
   "metadata": {},
   "outputs": [
    {
     "data": {
      "text/plain": [
       "1976"
      ]
     },
     "execution_count": 14,
     "metadata": {},
     "output_type": "execute_result"
    }
   ],
   "source": [
    "t.first"
   ]
  }
 ],
 "metadata": {
  "kernelspec": {
   "display_name": "Python 3",
   "language": "python",
   "name": "python3"
  },
  "language_info": {
   "codemirror_mode": {
    "name": "ipython",
    "version": 3
   },
   "file_extension": ".py",
   "mimetype": "text/x-python",
   "name": "python",
   "nbconvert_exporter": "python",
   "pygments_lexer": "ipython3",
   "version": "3.7.5"
  }
 },
 "nbformat": 4,
 "nbformat_minor": 4
}
