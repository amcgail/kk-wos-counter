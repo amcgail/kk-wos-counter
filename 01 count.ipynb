{
 "cells": [
  {
   "cell_type": "code",
   "execution_count": 10,
   "metadata": {},
   "outputs": [],
   "source": [
    "from params import *"
   ]
  },
  {
   "cell_type": "code",
   "execution_count": 11,
   "metadata": {},
   "outputs": [],
   "source": [
    "from knowknow import *"
   ]
  },
  {
   "cell_type": "code",
   "execution_count": 12,
   "metadata": {},
   "outputs": [],
   "source": [
    "from knowknow.datasources import wos"
   ]
  },
  {
   "cell_type": "code",
   "execution_count": 13,
   "metadata": {},
   "outputs": [
    {
     "name": "stdout",
     "output_type": "stream",
     "text": [
      "loading variable anthro-wos-all/groups from disk\n"
     ]
    }
   ],
   "source": [
    "prelim_count = Dataset(f\"{ident}-wos-all\")"
   ]
  },
  {
   "cell_type": "code",
   "execution_count": 14,
   "metadata": {},
   "outputs": [
    {
     "name": "stdout",
     "output_type": "stream",
     "text": [
      "loading variable anthro-wos-journalFilter/groups from disk\n",
      "loading variable anthro-wos-journalFilter/group_reps from disk\n"
     ]
    }
   ],
   "source": [
    "filtered = Dataset(f\"{ident}-wos-journalFilter\")\n",
    "filtered.groupings = [] # clear... not yet"
   ]
  },
  {
   "cell_type": "code",
   "execution_count": 15,
   "metadata": {},
   "outputs": [
    {
     "name": "stdout",
     "output_type": "stream",
     "text": [
      "loading variable anthro-wos-clean/groups from disk\n"
     ]
    }
   ],
   "source": [
    "final = Dataset(f'{ident}-wos-clean')"
   ]
  },
  {
   "cell_type": "markdown",
   "metadata": {},
   "source": [
    "# groupings"
   ]
  },
  {
   "cell_type": "code",
   "execution_count": 16,
   "metadata": {},
   "outputs": [],
   "source": [
    "prelim_count.groupings.append((\n",
    "    'fj',{\n",
    "        \"yearbook series vol 39: supplement 23;to the american journal of physical anthropology\": \"yearbook of physical anthropology\", \n",
    "        \"yearbook of physical anthropology: vol 46\": \"yearbook of physical anthropology\", \n",
    "        \"yearbook of physical anthropology\": \"yearbook of physical anthropology\", \n",
    "        \"yearbook of physical anthropology 1999, vol 42\": \"yearbook of physical anthropology\", \n",
    "        \"yearbook of physical anthropology, 1995\": \"yearbook of physical anthropology\", \n",
    "        \"yearbook of physical anthropology, vol 36 1993\": \"yearbook of physical anthropology\", \n",
    "        \"yearbook of physical anthropology, vol 41 - 1998\": \"yearbook of physical anthropology\", \n",
    "        \"yearbook of physical anthropology, vol 43 2000\": \"yearbook of physical anthropology\", \n",
    "        \"yearbook of physical anthropology, vol 44\": \"yearbook of physical anthropology\", \n",
    "        \"yearbook of physical anthropology, vol 45\": \"yearbook of physical anthropology\", \n",
    "        \"yearbook of physical anthropology, vol 47\": \"yearbook of physical anthropology\", \n",
    "        \"yearbook of physical anthropology\": \"yearbook of physical anthropology\", \n",
    "        \"yearbook series vol 39: supplement 23;\": \"yearbook of physical anthropology\", \n",
    "        \"american journal of physical anthropology-new series\": \"american journal of physical anthropology\",\n",
    "    }\n",
    "))"
   ]
  },
  {
   "cell_type": "markdown",
   "metadata": {},
   "source": [
    "# Counting over the entire dataset"
   ]
  },
  {
   "cell_type": "code",
   "execution_count": 7,
   "metadata": {},
   "outputs": [
    {
     "name": "stdout",
     "output_type": "stream",
     "text": [
      "File 0/305: anthro.leq2010.23001-23500.txt\n",
      "Document: 0\n",
      "Citations: 0\n",
      "Journals: []\n",
      "File 50/305: anthro.leq2010.88501-89000.txt\n",
      "Document: 24780\n",
      "Citations: 531675\n",
      "Journals: [('journal of archaeological science', 1331), ('man', 937), ('american anthropologist', 933), ('anthropos', 692), ('antiquity', 601), ('collegium antropologicum', 514), ('archaeological and anthropological sciences', 505), ('american journal of human biology', 505), ('american antiquity', 474), ('american journal of physical anthropology', 462), ('race & class', 451), ('anthropologie', 417), ('human biology', 416), ('human organization', 392), ('human ecology', 385)]\n",
      "File 100/305: anthro.geq2011.14501-15000.txt\n",
      "Document: 49780\n",
      "Citations: 918202\n",
      "Journals: [('journal of archaeological science', 2348), ('american journal of physical anthropology', 2203), ('man', 1602), ('american anthropologist', 1543), ('antiquity', 1372), ('american antiquity', 1214), ('anthropos', 1161), ('american journal of human biology', 1063), ('human biology', 933), ('journal of human evolution', 896), ('annals of human biology', 878), ('collegium antropologicum', 871), ('human organization', 869), ('human ecology', 713), ('anthropologie', 704)]\n",
      "File 150/305: anthro.leq2010.89501-90000.txt\n",
      "Document: 74780\n",
      "Citations: 1296080\n",
      "Journals: [('american journal of physical anthropology', 4189), ('journal of archaeological science', 3403), ('american anthropologist', 2106), ('man', 2101), ('antiquity', 1844), ('journal of human evolution', 1775), ('american antiquity', 1621), ('anthropos', 1599), ('american journal of human biology', 1489), ('human biology', 1453), ('human organization', 1398), ('collegium antropologicum', 1266), ('africa', 1172), ('human ecology', 1000), ('anthropologie', 997)]\n",
      "File 200/305: anthro.leq2010.48501-49000.txt\n",
      "Document: 99538\n",
      "Citations: 1624441\n",
      "Journals: [('american journal of physical anthropology', 5162), ('journal of archaeological science', 4248), ('american anthropologist', 2823), ('man', 2633), ('antiquity', 2303), ('journal of human evolution', 2256), ('annals of human biology', 2087), ('anthropos', 2069), ('american antiquity', 2049), ('collegium antropologicum', 1935), ('american journal of human biology', 1914), ('human biology', 1844), ('human organization', 1793), ('africa', 1425), ('anthropologie', 1405)]\n",
      "File 250/305: anthro.leq2010.69501-70000.txt\n",
      "Document: 124538\n",
      "Citations: 1941942\n",
      "Journals: [('american journal of physical anthropology', 6298), ('journal of archaeological science', 4924), ('american anthropologist', 3611), ('man', 3159), ('antiquity', 2955), ('journal of human evolution', 2870), ('collegium antropologicum', 2749), ('american antiquity', 2654), ('anthropos', 2617), ('american journal of human biology', 2401), ('human biology', 2128), ('annals of human biology', 2089), ('human organization', 2075), ('anthropologie', 1836), ('current anthropology', 1754)]\n",
      "File 300/305: anthro.leq2010.4001-4500.txt\n",
      "Document: 149538\n",
      "Citations: 2243049\n",
      "Journals: [('american journal of physical anthropology', 7403), ('journal of archaeological science', 5771), ('american anthropologist', 4366), ('man', 3847), ('collegium antropologicum', 3547), ('antiquity', 3326), ('journal of human evolution', 3295), ('anthropos', 3242), ('american antiquity', 3025), ('american journal of human biology', 2718), ('human biology', 2580), ('human organization', 2480), ('annals of human biology', 2410), ('anthropologie', 2291), ('current anthropology', 2245)]\n",
      "loading variable anthro-wos-all/groups from disk\n"
     ]
    }
   ],
   "source": [
    "cnt = wos.counter(\n",
    "    wos_txt_base = base_dir, wos_type = 'txt',\n",
    "    output_database = prelim_count.name,\n",
    "    RUN_EVERYTHING = False,\n",
    "    name_blacklist=name_blacklist\n",
    ")\n",
    "\n",
    "cnt.run()"
   ]
  },
  {
   "cell_type": "code",
   "execution_count": 8,
   "metadata": {},
   "outputs": [],
   "source": [
    "prelim_count.set_attribute('RELIABLE_DATA_STARTS_HERE', 1900)\n",
    "prelim_count.set_attribute('RELIABLE_DATA_ENDS_HERE', 2015)\n",
    "prelim_count.set_attribute('type','wos')"
   ]
  },
  {
   "cell_type": "code",
   "execution_count": 9,
   "metadata": {},
   "outputs": [
    {
     "name": "stdout",
     "output_type": "stream",
     "text": [
      "loading variable anthro-wos-all/ind ___ fy from disk\n"
     ]
    },
    {
     "data": {
      "text/plain": [
       "2022"
      ]
     },
     "execution_count": 9,
     "metadata": {},
     "output_type": "execute_result"
    }
   ],
   "source": [
    "max( prelim_count.items('fy') )"
   ]
  },
  {
   "cell_type": "markdown",
   "metadata": {},
   "source": [
    "# Examine journals to determine what to drop"
   ]
  },
  {
   "cell_type": "code",
   "execution_count": 18,
   "metadata": {},
   "outputs": [],
   "source": [
    "zero_sofars = []\n",
    "# how I decide whether to keep a journal\n",
    "def filt(j):\n",
    "    \n",
    "    try:\n",
    "        tt = prelim_count.trend('fj', j)\n",
    "    except invalid_entry:\n",
    "        return False\n",
    "\n",
    "    # get the years for which there is a positive count of BIBLIOGRAPHIES\n",
    "    ys = set(y for y,c in tt._c.items() if c > 0)\n",
    "\n",
    "    # this is a weird error, probably requires me to rerun (rework for efficiency) my counting algos\n",
    "    # might even be reduced once I actually filter the journals\n",
    "    if not len(ys):\n",
    "        #raise Exception(\"no years for journal %s\" % j)\n",
    "        return False\n",
    "\n",
    "    # it must have been around for at least 10 years, with their first year being sometime before 1995\n",
    "    if not(\n",
    "        (max(ys)-min(ys) >= 10 and min(ys) <= 1995 and max(ys) >= 2015)\n",
    "    ): return False\n",
    "\n",
    "    # 5 years consecutively, then drop\n",
    "    ever_nonzero = False\n",
    "    zero_sofar = 0\n",
    "    zero_sofar_M = 0\n",
    "    for y in range(tt.data_start, tt.data_end):\n",
    "        c = tt._c[ y ]\n",
    "        \n",
    "        if c > 0:\n",
    "            ever_nonzero = True\n",
    "\n",
    "        if not ever_nonzero:\n",
    "            continue\n",
    "\n",
    "        if c == 0:\n",
    "            zero_sofar += 1\n",
    "        else:\n",
    "            zero_sofar_M = max(zero_sofar_M, zero_sofar)\n",
    "            zero_sofar = 0\n",
    "\n",
    "        if zero_sofar >= 5:\n",
    "            return False\n",
    "        \n",
    "    # at least 100 papers published total\n",
    "    if not(\n",
    "        prelim_count(fj=j).docs >= 100\n",
    "    ): return False\n",
    "    \n",
    "    zero_sofars.append(zero_sofar_M)\n",
    "    if zero_sofar_M > 0:\n",
    "        print(j,zero_sofar_M)\n",
    "\n",
    "    return True"
   ]
  },
  {
   "cell_type": "code",
   "execution_count": 19,
   "metadata": {},
   "outputs": [
    {
     "name": "stdout",
     "output_type": "stream",
     "text": [
      "loading variable anthro-wos-all/ind ___ fj from disk\n",
      "There are 200 journals total in `anthro-wos-all`\n",
      "loading variable anthro-wos-all/ind ___ fj.fy from disk\n",
      "loading variable anthro-wos-all/ind ___ fy from disk\n",
      "loading variable anthro-wos-all/doc ___ fj from disk\n",
      "africa 2\n",
      "anthropos 3\n",
      "cultural anthropology 2\n",
      "homo-journal of comparative human biology 2\n",
      "journal of anthropological research 2\n",
      "journal of world prehistory 3\n",
      "oceania 2\n",
      "Only 43 meet my standards\n"
     ]
    }
   ],
   "source": [
    "journals = list(prelim_count.items('fj'))\n",
    "\n",
    "print( \"There are %s journals total in `%s`\" % (len(journals), prelim_count.name) )\n",
    "\n",
    "keep, drop = set(), set()\n",
    "for j in journals:\n",
    "    if filt(j):\n",
    "        keep.add(j)\n",
    "    else:\n",
    "        drop.add(j)\n",
    "        \n",
    "print( \"Only %s meet my standards\" % (len(keep) ) )"
   ]
  },
  {
   "cell_type": "code",
   "execution_count": 20,
   "metadata": {},
   "outputs": [
    {
     "data": {
      "text/plain": [
       "Counter({2: 5, 0: 36, 3: 2})"
      ]
     },
     "execution_count": 20,
     "metadata": {},
     "output_type": "execute_result"
    }
   ],
   "source": [
    "Counter(zero_sofars)"
   ]
  },
  {
   "cell_type": "markdown",
   "metadata": {},
   "source": [
    "## journals to keep"
   ]
  },
  {
   "cell_type": "code",
   "execution_count": 21,
   "metadata": {},
   "outputs": [
    {
     "name": "stdout",
     "output_type": "stream",
     "text": [
      "africa, american anthropologist, american antiquity, american ethnologist, american journal of human biology, american journal of physical anthropology, annals of human biology, anthropological quarterly, anthropological science, anthropology & education quarterly, anthropos, anthrozoos, antiquity, arctic anthropology, bijdragen tot de taal- land- en volkenkunde, comparative studies in society and history, critique of anthropology, cultural anthropology, cultural studies, culture medicine and psychiatry, current anthropology, ethnohistory, ethos, homo-journal of comparative human biology, human biology, human ecology, human nature-an interdisciplinary biosocial perspective, human organization, international journal of osteoarchaeology, journal of anthropological archaeology, journal of anthropological research, journal of archaeological science, journal of family history, journal of historical sociology, journal of human evolution, journal of peasant studies, journal of the royal anthropological institute, journal of world prehistory, medical anthropology quarterly, oceania, public culture, race & class, social networks\n"
     ]
    }
   ],
   "source": [
    "print(\", \".join(sorted(keep)))"
   ]
  },
  {
   "cell_type": "markdown",
   "metadata": {},
   "source": [
    "## journals to drop"
   ]
  },
  {
   "cell_type": "code",
   "execution_count": 22,
   "metadata": {},
   "outputs": [
    {
     "name": "stdout",
     "output_type": "stream",
     "text": [
      "acta ethnographica,acta ethnographica academiae scientiarum hungaricae,african archaeological review,aibr-revista de antropologia iberoamericana,annals of anthropological practice,annual review of anthropology,anthropologiai kozlemenyek-anthropological communications,anthropologica,anthropologica-canada,anthropological forum,anthropological journal of canada,anthropological journal of european cultures,anthropological linguistics,anthropological notebooks,anthropological papers of the american museum of natural history,anthropological papers of the museum of anthropology of the university;michigan,anthropological theory,anthropologie,anthropologie et sante-revue internationale francophone d anthropologie;de la sante,anthropologie-international journal of human diversity and evolution,anthropologischer anzeiger,anthropologist,anthropology & medicine,anthropology and archeology of eurasia,anthropology in action-journal for applied anthropology in policy and;practice,anthropology of consciousness,anthropology of work review,anthropology southern africa,anthropology today,anthropology ucla,anthropozoologica,antropologia portuguesa,antropologica,applied anthropology,archaeologia,archaeological and anthropological sciences,archaeological and ethnological papers of the peabody museum,archaeology ethnology and anthropology of eurasia,archaeology in oceania,arkheologiya,asia pacific journal of anthropology,ausgrabungen und funde,australian aboriginal studies,australian archaeology,australian journal of anthropology,behavior science research,bernice p bishop museum bulletin,boletin antropologico,bulletins et memoires de la societe d anthropologie de paris,bureau of american ethnology bulletin,cahiers d etudes africaines,cambridge journal of anthropology,canadian review of sociology and anthropology,canadian review of sociology and anthropology-revue canadienne de;sociologie et d anthropologie,cesky lid-ethnologicky casopis,chinese sociology and anthropology,chungara-revista de antropologia chilena,city & society,collegium antropologicum,cuadernos de antropologia,dialectical anthropology,eastern anthropologist,economic anthropology,estudios atacamenos,estudios de cultura maya,ethnobiology letters,ethnography,ethnologies,ethnology,ethnos,etnoantropoloski problemi-issues in ethnology and anthropology,etnoloska tribina,etudes inuit studies,evolutionary anthropology,evolutionary human sciences,field methods,focaal-journal of global and historical anthropology,food and foodways,gazeta de antropologia,germania,global networks-a journal of transnational affairs,hau-journal of ethnographic theory,history and anthropology,homme,homo,human nature,inter-asia cultural studies,international indigenous policy journal,intersecciones en antropologia,journal de la societe des americanistes,journal of anthropological sciences,journal of archaeological method and theory,journal of archaeological research,journal of ethnobiology,journal of latin american and caribbean anthropology,journal of linguistic anthropology,journal of material culture,journal of paleolithic archaeology,journal of religion in africa,journal of social archaeology,journal of the anthropological society of nippon,journal of the polynesian society,journal of the royal anthropological institute of great britain and;ireland,journal of urban ethnology,latin american antiquity,lithic technology,magallania,man,man in india,mana-estudos de antropologia social,mankind,mankind quarterly,medical anthropology,minzokugaku kenkyu-japanese journal of ethnology,monographs on social anthropology,museum anthropology,new mexico anthropologist,nomadic peoples,occasional papers in anthropology-penn state university,paleoamerica,papers of the peabody museum of american archaeology and;ethnology-harvard university,papers of the peabody museum of archaeology and ethnology-harvard;university,plains anthropologist,polar-political and legal anthropology review,praehistorische zeitschrift,publications in ethnology-national museum of canada,quaderns-e de l institut catala d antropologia,relaciones,reviews in anthropology,revista de antropologia social,revista espanola de antropologia americana,revue archeologique,romani studies,signs and society,slovensky narodopis-slovak ethnology,social analysis,social anthropology,sociologus,southwestern journal of anthropology,soviet anthropology and archeology,studia ethnologica croatica,studies on ethno-medicine,tomskii zhurnal lingvisticheskikh i antropologicheskikh;issledovanii-tomsk journal of linguistics and anthropology,trabajos de prehistoria,transcultural psychiatry,transforming anthropology,urban anthropology,urbanities-journal of urban ethnography,visual anthropology,visual anthropology review,visual ethnography,west canadian journal of anthropology,yearbook of physical anthropology,yearbook of physical anthropology, yearbook series vol 39: supplement 23;to the american journal of physical anthropology,zeitschrift fur archaologie,zeitschrift fur ethnologie,zeitschrift fur morphologie und anthropologie\n"
     ]
    }
   ],
   "source": [
    "print(\",\".join(sorted(drop)))"
   ]
  },
  {
   "cell_type": "markdown",
   "metadata": {},
   "source": [
    "# compute counts over just these selected journals"
   ]
  },
  {
   "cell_type": "code",
   "execution_count": 15,
   "metadata": {},
   "outputs": [
    {
     "name": "stdout",
     "output_type": "stream",
     "text": [
      "File 0/305: anthro.leq2010.23001-23500.txt\n",
      "Document: 0\n",
      "Citations: 0\n",
      "Journals: []\n",
      "File 50/305: anthro.leq2010.88501-89000.txt\n",
      "Document: 24780\n",
      "Citations: 314643\n",
      "Journals: [('journal of archaeological science', 1331), ('man', 937), ('american anthropologist', 933), ('anthropos', 692), ('antiquity', 601), ('collegium antropologicum', 514), ('archaeological and anthropological sciences', 505), ('american journal of human biology', 505), ('american antiquity', 474), ('american journal of physical anthropology', 462), ('race & class', 451), ('anthropologie', 417), ('human biology', 416), ('human organization', 392), ('human ecology', 385)]\n",
      "File 100/305: anthro.geq2011.14501-15000.txt\n",
      "Document: 49780\n",
      "Citations: 558763\n",
      "Journals: [('journal of archaeological science', 2348), ('american journal of physical anthropology', 2203), ('man', 1602), ('american anthropologist', 1543), ('antiquity', 1372), ('american antiquity', 1214), ('anthropos', 1161), ('american journal of human biology', 1063), ('human biology', 933), ('journal of human evolution', 896), ('annals of human biology', 878), ('collegium antropologicum', 871), ('human organization', 869), ('human ecology', 713), ('anthropologie', 704)]\n",
      "File 150/305: anthro.leq2010.89501-90000.txt\n",
      "Document: 74780\n",
      "Citations: 791481\n",
      "Journals: [('american journal of physical anthropology', 4189), ('journal of archaeological science', 3403), ('american anthropologist', 2106), ('man', 2101), ('antiquity', 1844), ('journal of human evolution', 1775), ('american antiquity', 1621), ('anthropos', 1599), ('american journal of human biology', 1489), ('human biology', 1453), ('human organization', 1398), ('collegium antropologicum', 1266), ('africa', 1172), ('human ecology', 1000), ('anthropologie', 997)]\n",
      "File 200/305: anthro.leq2010.48501-49000.txt\n",
      "Document: 99538\n",
      "Citations: 998362\n",
      "Journals: [('american journal of physical anthropology', 5162), ('journal of archaeological science', 4248), ('american anthropologist', 2823), ('man', 2633), ('antiquity', 2303), ('journal of human evolution', 2256), ('annals of human biology', 2087), ('anthropos', 2069), ('american antiquity', 2049), ('collegium antropologicum', 1935), ('american journal of human biology', 1914), ('human biology', 1844), ('human organization', 1793), ('africa', 1425), ('anthropologie', 1405)]\n",
      "File 250/305: anthro.leq2010.69501-70000.txt\n",
      "Document: 124538\n",
      "Citations: 1192191\n",
      "Journals: [('american journal of physical anthropology', 6298), ('journal of archaeological science', 4924), ('american anthropologist', 3611), ('man', 3159), ('antiquity', 2955), ('journal of human evolution', 2870), ('collegium antropologicum', 2749), ('american antiquity', 2654), ('anthropos', 2617), ('american journal of human biology', 2401), ('human biology', 2128), ('annals of human biology', 2089), ('human organization', 2075), ('anthropologie', 1836), ('current anthropology', 1754)]\n",
      "File 300/305: anthro.leq2010.4001-4500.txt\n",
      "Document: 149538\n",
      "Citations: 1366580\n",
      "Journals: [('american journal of physical anthropology', 7403), ('journal of archaeological science', 5771), ('american anthropologist', 4366), ('man', 3847), ('collegium antropologicum', 3547), ('antiquity', 3326), ('journal of human evolution', 3295), ('anthropos', 3242), ('american antiquity', 3025), ('american journal of human biology', 2718), ('human biology', 2580), ('human organization', 2480), ('annals of human biology', 2410), ('anthropologie', 2291), ('current anthropology', 2245)]\n",
      "loading variable anthro-wos-journalFilter/groups from disk\n"
     ]
    }
   ],
   "source": [
    "cnt = wos.counter(\n",
    "    wos_txt_base = base_dir, wos_type = 'txt',\n",
    "    output_database = filtered.name,\n",
    "    RUN_EVERYTHING = False,\n",
    "    name_blacklist=name_blacklist,\n",
    "    journals_filter=keep\n",
    ")\n",
    "\n",
    "cnt.run()"
   ]
  },
  {
   "cell_type": "code",
   "execution_count": 16,
   "metadata": {},
   "outputs": [],
   "source": [
    "filtered.set_attribute('RELIABLE_DATA_STARTS_HERE', 1900)\n",
    "filtered.set_attribute('RELIABLE_DATA_ENDS_HERE', 2015)\n",
    "filtered.set_attribute('type','wos')"
   ]
  },
  {
   "cell_type": "markdown",
   "metadata": {},
   "source": [
    "# now compute summary statistics about citations.\n",
    "\n",
    "There are many we will want to exclude for almost all analyses, in order to keep more cooccurrence counts"
   ]
  },
  {
   "cell_type": "code",
   "execution_count": 17,
   "metadata": {},
   "outputs": [
    {
     "name": "stdout",
     "output_type": "stream",
     "text": [
      "loading variable anthro-wos-journalFilter/groups from disk\n",
      "loading variable anthro-wos-journalFilter/ind ___ c from disk\n",
      "Item 0/1383166 (#Blacklivesmatter, O.|2016|11 maj misc black li)\n",
      "Current memory usage is 247.695761MB; Peak was 649.763443MB\n",
      "defaultdict(<class 'int'>, {})\n",
      "loading variable anthro-wos-journalFilter/doc ___ c from disk\n",
      "loading variable anthro-wos-journalFilter/ind ___ c.fy from disk\n",
      "loading variable anthro-wos-journalFilter/ind ___ fy from disk\n",
      "Item 50000/1383166 (Asch, D.|1978|anthr papers museum,v67,p301)\n",
      "Current memory usage is 994.943354MB; Peak was 1176.471147MB\n",
      "defaultdict(<class 'int'>, {'at least one citation': 50000, 'less than 5 citations... dropped.2': 47302, 'not enough parts': 26, 'passed tests pre-blacklist': 1857, 'less than 5 citations... dropped.': 681, 'invalid entry': 132, 'first citation before pub date': 2})\n",
      "Item 100000/1383166 (Bender, D.|1970|man,v5,p71)\n",
      "Current memory usage is 1110.486847MB; Peak was 1186.5985MB\n",
      "defaultdict(<class 'int'>, {'at least one citation': 100000, 'less than 5 citations... dropped.2': 94321, 'not enough parts': 33, 'passed tests pre-blacklist': 3984, 'less than 5 citations... dropped.': 1418, 'invalid entry': 238, 'first citation before pub date': 6})\n",
      "Item 150000/1383166 (Bowne, E.|westo indians slave)\n",
      "Current memory usage is 1145.46359MB; Peak was 1186.5985MB\n",
      "defaultdict(<class 'int'>, {'at least one citation': 150000, 'less than 5 citations... dropped.2': 141023, 'not enough parts': 43, 'passed tests pre-blacklist': 6396, 'less than 5 citations... dropped.': 2170, 'invalid entry': 360, 'first citation before pub date': 8})\n",
      "Item 200000/1383166 (Carey, N.|junk dna journey dar)\n",
      "Current memory usage is 1178.684283MB; Peak was 1186.5985MB\n",
      "defaultdict(<class 'int'>, {'at least one citation': 200000, 'less than 5 citations... dropped.2': 187878, 'not enough parts': 50, 'passed tests pre-blacklist': 8666, 'less than 5 citations... dropped.': 2892, 'invalid entry': 502, 'first citation before pub date': 12})\n",
      "Item 250000/1383166 (Collins, R.|j tour ne boundary c)\n",
      "Current memory usage is 1208.211401MB; Peak was 1208.223779MB\n",
      "defaultdict(<class 'int'>, {'at least one citation': 250000, 'less than 5 citations... dropped.2': 235088, 'not enough parts': 56, 'passed tests pre-blacklist': 10703, 'less than 5 citations... dropped.': 3534, 'invalid entry': 604, 'first citation before pub date': 15})\n",
      "Item 300000/1383166 (Deagle, B.|2006|front zool,v3,p11)\n",
      "Current memory usage is 1239.798278MB; Peak was 1239.809633MB\n",
      "defaultdict(<class 'int'>, {'at least one citation': 300000, 'less than 5 citations... dropped.2': 282134, 'not enough parts': 63, 'passed tests pre-blacklist': 12800, 'less than 5 citations... dropped.': 4251, 'invalid entry': 731, 'first citation before pub date': 21})\n",
      "Item 350000/1383166 (Earle, C.|city so hist growth)\n",
      "Current memory usage is 1268.67833MB; Peak was 1268.689305MB\n",
      "defaultdict(<class 'int'>, {'at least one citation': 350000, 'less than 5 citations... dropped.2': 329405, 'not enough parts': 72, 'passed tests pre-blacklist': 14805, 'less than 5 citations... dropped.': 4854, 'invalid entry': 843, 'first citation before pub date': 21})\n",
      "Item 400000/1383166 (Fitting, J.|1978|pennsylvania archaeo,v48,p12)\n",
      "Current memory usage is 1299.995986MB; Peak was 1300.007303MB\n",
      "defaultdict(<class 'int'>, {'at least one citation': 400000, 'less than 5 citations... dropped.2': 376441, 'not enough parts': 80, 'passed tests pre-blacklist': 16886, 'less than 5 citations... dropped.': 5603, 'invalid entry': 968, 'first citation before pub date': 22})\n",
      "Item 450000/1383166 (Gettens, R.|1962|am antiquity,v27,p557)\n",
      "Current memory usage is 1333.845995MB; Peak was 1333.857989MB\n",
      "defaultdict(<class 'int'>, {'at least one citation': 450000, 'less than 5 citations... dropped.2': 423234, 'not enough parts': 89, 'passed tests pre-blacklist': 19254, 'less than 5 citations... dropped.': 6329, 'invalid entry': 1071, 'first citation before pub date': 23})\n",
      "Item 500000/1383166 (Gunn, D.|1937|j obstet gynaecology,v44,p839)\n",
      "Current memory usage is 1367.172592MB; Peak was 1367.184843MB\n",
      "defaultdict(<class 'int'>, {'at least one citation': 500000, 'less than 5 citations... dropped.2': 470081, 'not enough parts': 97, 'passed tests pre-blacklist': 21553, 'less than 5 citations... dropped.': 7055, 'invalid entry': 1188, 'first citation before pub date': 26})\n",
      "Item 550000/1383166 (Hernandez, X.|1985|econ bot,v0039,p00416)\n",
      "Current memory usage is 1569.660501MB; Peak was 1708.94031MB\n",
      "defaultdict(<class 'int'>, {'at least one citation': 550000, 'less than 5 citations... dropped.2': 516873, 'not enough parts': 101, 'passed tests pre-blacklist': 23916, 'less than 5 citations... dropped.': 7740, 'invalid entry': 1340, 'first citation before pub date': 30})\n",
      "Item 600000/1383166 (International, S.|dev countr isi web o)\n",
      "Current memory usage is 1603.588523MB; Peak was 1708.94031MB\n",
      "defaultdict(<class 'int'>, {'at least one citation': 600000, 'less than 5 citations... dropped.2': 563664, 'not enough parts': 110, 'passed tests pre-blacklist': 26223, 'less than 5 citations... dropped.': 8497, 'invalid entry': 1468, 'first citation before pub date': 38})\n",
      "Item 650000/1383166 (Keene, H.|1982|am j phys anthropol,v59,p281)\n",
      "Current memory usage is 1633.00104MB; Peak was 1708.94031MB\n",
      "defaultdict(<class 'int'>, {'at least one citation': 650000, 'less than 5 citations... dropped.2': 610891, 'not enough parts': 116, 'passed tests pre-blacklist': 28263, 'less than 5 citations... dropped.': 9137, 'invalid entry': 1550, 'first citation before pub date': 43})\n",
      "Item 700000/1383166 (Kuznesof, E.|1988|latin am population,v14,p9)\n",
      "Current memory usage is 1663.236213MB; Peak was 1708.94031MB\n",
      "defaultdict(<class 'int'>, {'at least one citation': 700000, 'less than 5 citations... dropped.2': 658031, 'not enough parts': 129, 'passed tests pre-blacklist': 30349, 'less than 5 citations... dropped.': 9773, 'invalid entry': 1671, 'first citation before pub date': 47})\n",
      "Item 750000/1383166 (Lipe, W.|1992|2 crow canyon arch c)\n",
      "Current memory usage is 1695.604711MB; Peak was 1708.94031MB\n",
      "defaultdict(<class 'int'>, {'at least one citation': 750000, 'less than 5 citations... dropped.2': 704963, 'not enough parts': 136, 'passed tests pre-blacklist': 32572, 'less than 5 citations... dropped.': 10468, 'invalid entry': 1813, 'first citation before pub date': 48})\n",
      "Item 800000/1383166 (Marshall, A.|2009|am j phys anthropol,v140,p603)\n",
      "Current memory usage is 1726.873488MB; Peak was 1726.885509MB\n",
      "defaultdict(<class 'int'>, {'at least one citation': 800000, 'less than 5 citations... dropped.2': 752009, 'not enough parts': 144, 'passed tests pre-blacklist': 34693, 'less than 5 citations... dropped.': 11169, 'invalid entry': 1934, 'first citation before pub date': 51})\n",
      "Item 850000/1383166 (Miller, K.|ec brief)\n",
      "Current memory usage is 1759.011392MB; Peak was 1759.023411MB\n",
      "defaultdict(<class 'int'>, {'at least one citation': 850000, 'less than 5 citations... dropped.2': 798977, 'not enough parts': 147, 'passed tests pre-blacklist': 36880, 'less than 5 citations... dropped.': 11863, 'invalid entry': 2080, 'first citation before pub date': 53})\n",
      "Item 900000/1383166 (Nelson, D.|finger wound ethnici)\n",
      "Current memory usage is 1787.214596MB; Peak was 1787.227022MB\n",
      "defaultdict(<class 'int'>, {'at least one citation': 900000, 'less than 5 citations... dropped.2': 846313, 'not enough parts': 149, 'passed tests pre-blacklist': 38793, 'less than 5 citations... dropped.': 12507, 'invalid entry': 2180, 'first citation before pub date': 58})\n",
      "Item 950000/1383166 (Pares, J.|2018|quaternary sci rev,v186,p1)\n",
      "Current memory usage is 1814.730042MB; Peak was 1814.741186MB\n",
      "defaultdict(<class 'int'>, {'at least one citation': 950000, 'less than 5 citations... dropped.2': 893717, 'not enough parts': 157, 'passed tests pre-blacklist': 40567, 'less than 5 citations... dropped.': 13225, 'invalid entry': 2276, 'first citation before pub date': 58})\n",
      "Item 1000000/1383166 (Prewitt, K.|ruling elites elite)\n",
      "Current memory usage is 1845.270817MB; Peak was 1845.282994MB\n",
      "defaultdict(<class 'int'>, {'at least one citation': 1000000, 'less than 5 citations... dropped.2': 940836, 'not enough parts': 166, 'passed tests pre-blacklist': 42602, 'less than 5 citations... dropped.': 13938, 'invalid entry': 2394, 'first citation before pub date': 64})\n",
      "Item 1050000/1383166 (Rocks-Macqueen, D.|dougs archaeolo 0730)\n",
      "Current memory usage is 1877.052545MB; Peak was 1877.064795MB\n",
      "defaultdict(<class 'int'>, {'at least one citation': 1050000, 'less than 5 citations... dropped.2': 987961, 'not enough parts': 170, 'passed tests pre-blacklist': 44640, 'less than 5 citations... dropped.': 14637, 'invalid entry': 2525, 'first citation before pub date': 67})\n",
      "Item 1100000/1383166 (Scheuer, L.|juvenile dev osteolo)\n",
      "Current memory usage is 1908.222014MB; Peak was 1908.233315MB\n",
      "defaultdict(<class 'int'>, {'at least one citation': 1100000, 'less than 5 citations... dropped.2': 1035009, 'not enough parts': 183, 'passed tests pre-blacklist': 46729, 'less than 5 citations... dropped.': 15366, 'invalid entry': 2639, 'first citation before pub date': 74})\n",
      "Item 1150000/1383166 (Skar, H.|warm valley people d)\n",
      "Current memory usage is 1938.898807MB; Peak was 1938.911154MB\n",
      "defaultdict(<class 'int'>, {'at least one citation': 1150000, 'less than 5 citations... dropped.2': 1082112, 'not enough parts': 189, 'passed tests pre-blacklist': 48839, 'less than 5 citations... dropped.': 16035, 'invalid entry': 2749, 'first citation before pub date': 76})\n",
      "Item 1200000/1383166 (Suder, A.|2017|eur j pediatr,v176,p909)\n",
      "Current memory usage is 1974.161524MB; Peak was 1974.172716MB\n",
      "defaultdict(<class 'int'>, {'at least one citation': 1200000, 'less than 5 citations... dropped.2': 1128777, 'not enough parts': 197, 'passed tests pre-blacklist': 51280, 'less than 5 citations... dropped.': 16776, 'invalid entry': 2892, 'first citation before pub date': 78})\n",
      "Item 1250000/1383166 (Truscot, B.|red brick u)\n",
      "Current memory usage is 2003.944829MB; Peak was 2003.955966MB\n",
      "defaultdict(<class 'int'>, {'at least one citation': 1250000, 'less than 5 citations... dropped.2': 1175958, 'not enough parts': 204, 'passed tests pre-blacklist': 53362, 'less than 5 citations... dropped.': 17407, 'invalid entry': 2985, 'first citation before pub date': 84})\n",
      "Item 1300000/1383166 (Walker, R.|1988|endod dent traumatol,v4,p19)\n",
      "Current memory usage is 2032.261973MB; Peak was 2032.273842MB\n",
      "defaultdict(<class 'int'>, {'at least one citation': 1300000, 'less than 5 citations... dropped.2': 1223282, 'not enough parts': 213, 'passed tests pre-blacklist': 55228, 'less than 5 citations... dropped.': 18099, 'invalid entry': 3092, 'first citation before pub date': 86})\n",
      "Item 1350000/1383166 (Wood, B.|1998|j anat,v193,p61)\n",
      "Current memory usage is 2066.764555MB; Peak was 2066.776553MB\n",
      "defaultdict(<class 'int'>, {'at least one citation': 1350000, 'less than 5 citations... dropped.2': 1270015, 'not enough parts': 220, 'passed tests pre-blacklist': 57621, 'less than 5 citations... dropped.': 18842, 'invalid entry': 3215, 'first citation before pub date': 87})\n",
      "success!\n"
     ]
    }
   ],
   "source": [
    "if True:\n",
    "    t = ttDF(\n",
    "        dataset_name = filtered.name,\n",
    "        dtype = 'c',\n",
    "        debug=False\n",
    "    ).run()"
   ]
  },
  {
   "cell_type": "code",
   "execution_count": 18,
   "metadata": {},
   "outputs": [
    {
     "name": "stdout",
     "output_type": "stream",
     "text": [
      "loading variable anthro-wos-journalFilter/c.ysum from disk\n"
     ]
    },
    {
     "data": {
      "text/plain": [
       "58727"
      ]
     },
     "execution_count": 18,
     "metadata": {},
     "output_type": "execute_result"
    }
   ],
   "source": [
    "len( filtered.load_variable('c.ysum') )"
   ]
  },
  {
   "cell_type": "markdown",
   "metadata": {},
   "source": [
    "# and group those which make the cut"
   ]
  },
  {
   "cell_type": "code",
   "execution_count": 7,
   "metadata": {},
   "outputs": [
    {
     "name": "stdout",
     "output_type": "stream",
     "text": [
      "loading variable anthro-wos-journalFilter/c.ysum from disk\n",
      "58727 strings total...\n",
      "sample articles: ['2-2,, D.|1997|', '2-T,, D.|2000|', 'Aaby, B.|1994|veg hist archaeobot,v3,p167', 'Abate, N.|1996|diabetes,v45,p1684', 'Abbate, E.|1998|nature,v393,p458', 'Abbate, E.|2012|quatern int,v267,p3', 'Abbes, F.|2001|syria,v78,p5', 'Abbes, F.|2003|j non-cryst solids,v323,p162', 'Abbie, A.|1947|j anat,v81,p233', 'Abbie, A.|1951|oceania,v22,p91']\n",
      "sample books: ['Aaris-Sorensen, K.|danmarks forhistoris', 'Aaris-Sorensen, K.|foss strata', 'Aarne, A.|types folktale', 'Abadie, R.|professional guinea', 'Abbas, A.|hong kong culture po', 'Abbie, A.|original austr', 'Abbott, A.|system professions e', 'Abbott, D.|centuries decline ho', 'Abbott, D.|ceramic production a', 'Abbott, D.|ceramics community o']\n",
      "35972 articles, 22755 books to group\n",
      "3205 books have some connection to others in a group\n",
      "21010 groups total\n",
      "[(11614, 8), (11683, 8), (8746, 7), (18581, 7), (20717, 7), (3519, 6), (6303, 6), (16905, 6), (19973, 6), (1586, 5)]\n",
      "860 articles have some connection to others in a group\n",
      "22755 books and 35972 articles total\n"
     ]
    }
   ],
   "source": [
    "# note that unfortunately this currently requires YSUM\n",
    "#   and thus will be based on the filters embedded in that...\n",
    "#   AND these decisions will propagate further, because counters only consider if they're in the groups\n",
    "# some decisions need to be made here...\n",
    "from grouper import Grouper\n",
    "g = Grouper(dataset=filtered)\n",
    "g.run()"
   ]
  },
  {
   "cell_type": "markdown",
   "metadata": {},
   "source": [
    "# recount on this focused group, grouping citations"
   ]
  },
  {
   "cell_type": "code",
   "execution_count": 23,
   "metadata": {},
   "outputs": [
    {
     "name": "stdout",
     "output_type": "stream",
     "text": [
      "loading variable anthro-wos-journalFilter/groups from disk\n",
      "loading variable anthro-wos-journalFilter/group_reps from disk\n",
      "File 0/305: anthro.leq2010.23001-23500.txt\n",
      "Document: 0\n",
      "Citations: 0\n",
      "Journals: []\n",
      "File 50/305: anthro.leq2010.88501-89000.txt\n",
      "Document: 24780\n",
      "Citations: 42824\n",
      "Journals: [('journal of archaeological science', 1331), ('man', 937), ('american anthropologist', 933), ('anthropos', 692), ('antiquity', 601), ('collegium antropologicum', 514), ('archaeological and anthropological sciences', 505), ('american journal of human biology', 505), ('american antiquity', 474), ('american journal of physical anthropology', 462), ('race & class', 451), ('anthropologie', 417), ('human biology', 416), ('human organization', 392), ('human ecology', 385)]\n",
      "File 100/305: anthro.geq2011.14501-15000.txt\n",
      "Document: 49780\n",
      "Citations: 53528\n",
      "Journals: [('journal of archaeological science', 2348), ('american journal of physical anthropology', 2203), ('man', 1602), ('american anthropologist', 1543), ('antiquity', 1372), ('american antiquity', 1214), ('anthropos', 1161), ('american journal of human biology', 1063), ('human biology', 933), ('journal of human evolution', 896), ('annals of human biology', 878), ('collegium antropologicum', 871), ('human organization', 869), ('human ecology', 713), ('anthropologie', 704)]\n",
      "File 150/305: anthro.leq2010.89501-90000.txt\n",
      "Document: 74780\n",
      "Citations: 55688\n",
      "Journals: [('american journal of physical anthropology', 4189), ('journal of archaeological science', 3403), ('american anthropologist', 2106), ('man', 2101), ('antiquity', 1844), ('journal of human evolution', 1775), ('american antiquity', 1621), ('anthropos', 1599), ('american journal of human biology', 1489), ('human biology', 1453), ('human organization', 1398), ('collegium antropologicum', 1266), ('africa', 1172), ('human ecology', 1000), ('anthropologie', 997)]\n",
      "File 200/305: anthro.leq2010.48501-49000.txt\n",
      "Document: 99538\n",
      "Citations: 56436\n",
      "Journals: [('american journal of physical anthropology', 5162), ('journal of archaeological science', 4248), ('american anthropologist', 2823), ('man', 2633), ('antiquity', 2303), ('journal of human evolution', 2256), ('annals of human biology', 2087), ('anthropos', 2069), ('american antiquity', 2049), ('collegium antropologicum', 1935), ('american journal of human biology', 1914), ('human biology', 1844), ('human organization', 1793), ('africa', 1425), ('anthropologie', 1405)]\n",
      "File 250/305: anthro.leq2010.69501-70000.txt\n",
      "Document: 124538\n",
      "Citations: 56526\n",
      "Journals: [('american journal of physical anthropology', 6298), ('journal of archaeological science', 4924), ('american anthropologist', 3611), ('man', 3159), ('antiquity', 2955), ('journal of human evolution', 2870), ('collegium antropologicum', 2749), ('american antiquity', 2654), ('anthropos', 2617), ('american journal of human biology', 2401), ('human biology', 2128), ('annals of human biology', 2089), ('human organization', 2075), ('anthropologie', 1836), ('current anthropology', 1754)]\n",
      "File 300/305: anthro.leq2010.4001-4500.txt\n",
      "Document: 149538\n",
      "Citations: 56527\n",
      "Journals: [('american journal of physical anthropology', 7403), ('journal of archaeological science', 5771), ('american anthropologist', 4366), ('man', 3847), ('collegium antropologicum', 3547), ('antiquity', 3326), ('journal of human evolution', 3295), ('anthropos', 3242), ('american antiquity', 3025), ('american journal of human biology', 2718), ('human biology', 2580), ('human organization', 2480), ('annals of human biology', 2410), ('anthropologie', 2291), ('current anthropology', 2245)]\n",
      "File 0/305: anthro.leq2010.23001-23500.txt\n",
      "Document: 0\n",
      "Citations: 56527\n",
      "Journals: []\n",
      "File 50/305: anthro.leq2010.88501-89000.txt\n",
      "Document: 24780\n",
      "Citations: 56527\n",
      "Journals: [('journal of archaeological science', 1331), ('man', 937), ('american anthropologist', 933), ('anthropos', 692), ('antiquity', 601), ('collegium antropologicum', 514), ('archaeological and anthropological sciences', 505), ('american journal of human biology', 505), ('american antiquity', 474), ('american journal of physical anthropology', 462), ('race & class', 451), ('anthropologie', 417), ('human biology', 416), ('human organization', 392), ('human ecology', 385)]\n",
      "File 100/305: anthro.geq2011.14501-15000.txt\n",
      "Document: 49780\n",
      "Citations: 56527\n",
      "Journals: [('journal of archaeological science', 2348), ('american journal of physical anthropology', 2203), ('man', 1602), ('american anthropologist', 1543), ('antiquity', 1372), ('american antiquity', 1214), ('anthropos', 1161), ('american journal of human biology', 1063), ('human biology', 933), ('journal of human evolution', 896), ('annals of human biology', 878), ('collegium antropologicum', 871), ('human organization', 869), ('human ecology', 713), ('anthropologie', 704)]\n",
      "File 150/305: anthro.leq2010.89501-90000.txt\n",
      "Document: 74780\n",
      "Citations: 56527\n",
      "Journals: [('american journal of physical anthropology', 4189), ('journal of archaeological science', 3403), ('american anthropologist', 2106), ('man', 2101), ('antiquity', 1844), ('journal of human evolution', 1775), ('american antiquity', 1621), ('anthropos', 1599), ('american journal of human biology', 1489), ('human biology', 1453), ('human organization', 1398), ('collegium antropologicum', 1266), ('africa', 1172), ('human ecology', 1000), ('anthropologie', 997)]\n",
      "File 200/305: anthro.leq2010.48501-49000.txt\n",
      "Document: 99538\n",
      "Citations: 56527\n",
      "Journals: [('american journal of physical anthropology', 5162), ('journal of archaeological science', 4248), ('american anthropologist', 2823), ('man', 2633), ('antiquity', 2303), ('journal of human evolution', 2256), ('annals of human biology', 2087), ('anthropos', 2069), ('american antiquity', 2049), ('collegium antropologicum', 1935), ('american journal of human biology', 1914), ('human biology', 1844), ('human organization', 1793), ('africa', 1425), ('anthropologie', 1405)]\n",
      "File 250/305: anthro.leq2010.69501-70000.txt\n",
      "Document: 124538\n",
      "Citations: 56527\n",
      "Journals: [('american journal of physical anthropology', 6298), ('journal of archaeological science', 4924), ('american anthropologist', 3611), ('man', 3159), ('antiquity', 2955), ('journal of human evolution', 2870), ('collegium antropologicum', 2749), ('american antiquity', 2654), ('anthropos', 2617), ('american journal of human biology', 2401), ('human biology', 2128), ('annals of human biology', 2089), ('human organization', 2075), ('anthropologie', 1836), ('current anthropology', 1754)]\n",
      "File 300/305: anthro.leq2010.4001-4500.txt\n",
      "Document: 149538\n",
      "Citations: 56527\n",
      "Journals: [('american journal of physical anthropology', 7403), ('journal of archaeological science', 5771), ('american anthropologist', 4366), ('man', 3847), ('collegium antropologicum', 3547), ('antiquity', 3326), ('journal of human evolution', 3295), ('anthropos', 3242), ('american antiquity', 3025), ('american journal of human biology', 2718), ('human biology', 2580), ('human organization', 2480), ('annals of human biology', 2410), ('anthropologie', 2291), ('current anthropology', 2245)]\n",
      "# allowed references for cocitation analysis: 1000\n",
      "Examples: [('Jungers, W.|1988|j hum evol,v17,p247',), ('Ruff, C.|2000|j hum evol,v38,p269',), ('Ruff, C.|1994|am j phys anthropol,v93,p35',)]\n",
      "File 0/305: anthro.leq2010.23001-23500.txt\n",
      "Document: 0\n",
      "Citations: 56527\n",
      "Journals: []\n",
      "File 50/305: anthro.leq2010.88501-89000.txt\n",
      "Document: 24780\n",
      "Citations: 56527\n",
      "Journals: [('journal of archaeological science', 1331), ('man', 937), ('american anthropologist', 933), ('anthropos', 692), ('antiquity', 601), ('collegium antropologicum', 514), ('archaeological and anthropological sciences', 505), ('american journal of human biology', 505), ('american antiquity', 474), ('american journal of physical anthropology', 462), ('race & class', 451), ('anthropologie', 417), ('human biology', 416), ('human organization', 392), ('human ecology', 385)]\n",
      "File 100/305: anthro.geq2011.14501-15000.txt\n",
      "Document: 49780\n",
      "Citations: 56527\n",
      "Journals: [('journal of archaeological science', 2348), ('american journal of physical anthropology', 2203), ('man', 1602), ('american anthropologist', 1543), ('antiquity', 1372), ('american antiquity', 1214), ('anthropos', 1161), ('american journal of human biology', 1063), ('human biology', 933), ('journal of human evolution', 896), ('annals of human biology', 878), ('collegium antropologicum', 871), ('human organization', 869), ('human ecology', 713), ('anthropologie', 704)]\n",
      "File 150/305: anthro.leq2010.89501-90000.txt\n",
      "Document: 74780\n",
      "Citations: 56527\n",
      "Journals: [('american journal of physical anthropology', 4189), ('journal of archaeological science', 3403), ('american anthropologist', 2106), ('man', 2101), ('antiquity', 1844), ('journal of human evolution', 1775), ('american antiquity', 1621), ('anthropos', 1599), ('american journal of human biology', 1489), ('human biology', 1453), ('human organization', 1398), ('collegium antropologicum', 1266), ('africa', 1172), ('human ecology', 1000), ('anthropologie', 997)]\n",
      "File 200/305: anthro.leq2010.48501-49000.txt\n",
      "Document: 99538\n",
      "Citations: 56527\n",
      "Journals: [('american journal of physical anthropology', 5162), ('journal of archaeological science', 4248), ('american anthropologist', 2823), ('man', 2633), ('antiquity', 2303), ('journal of human evolution', 2256), ('annals of human biology', 2087), ('anthropos', 2069), ('american antiquity', 2049), ('collegium antropologicum', 1935), ('american journal of human biology', 1914), ('human biology', 1844), ('human organization', 1793), ('africa', 1425), ('anthropologie', 1405)]\n",
      "File 250/305: anthro.leq2010.69501-70000.txt\n",
      "Document: 124538\n",
      "Citations: 56527\n",
      "Journals: [('american journal of physical anthropology', 6298), ('journal of archaeological science', 4924), ('american anthropologist', 3611), ('man', 3159), ('antiquity', 2955), ('journal of human evolution', 2870), ('collegium antropologicum', 2749), ('american antiquity', 2654), ('anthropos', 2617), ('american journal of human biology', 2401), ('human biology', 2128), ('annals of human biology', 2089), ('human organization', 2075), ('anthropologie', 1836), ('current anthropology', 1754)]\n",
      "File 300/305: anthro.leq2010.4001-4500.txt\n",
      "Document: 149538\n",
      "Citations: 56527\n",
      "Journals: [('american journal of physical anthropology', 7403), ('journal of archaeological science', 5771), ('american anthropologist', 4366), ('man', 3847), ('collegium antropologicum', 3547), ('antiquity', 3326), ('journal of human evolution', 3295), ('anthropos', 3242), ('american antiquity', 3025), ('american journal of human biology', 2718), ('human biology', 2580), ('human organization', 2480), ('annals of human biology', 2410), ('anthropologie', 2291), ('current anthropology', 2245)]\n",
      "Finished cocitation logging!\n",
      "loading variable anthro-wos-clean/groups from disk\n"
     ]
    }
   ],
   "source": [
    "#toload = ['fj','fy','ty','c.fy','c.fj','fj.fy','c','fy.ty','fj.ty','ta','fy.ta','fj.ta','c.fj.fy','ffa','ffa.fy','ffa.fj','c.ffa','fa','fa.fy','fa.fj','c.fa']\n",
    "\n",
    "cnt = wos.counter(\n",
    "    wos_txt_base = base_dir, wos_type = 'txt',\n",
    "    output_database = final.name,\n",
    "    RUN_EVERYTHING = True,\n",
    "    name_blacklist=name_blacklist,\n",
    "    journals_filter= keep,\n",
    "    groups= filtered.load_variable('groups'),\n",
    "    group_reps= filtered.load_variable('group_reps'),\n",
    "    #debug=True\n",
    ")\n",
    "\n",
    "cnt.run()\n",
    "\"\"\"\n",
    "to just compute ages, pulling from another set of counts, for debugging //\n",
    "for k in toload:\n",
    "    cnt.doc[k] = final.by(*k.split(\".\")).docs\n",
    "    cnt.ind[k] = final.by(*k.split(\".\")).cits\n",
    "\n",
    "cnt.count_ages()\n",
    "\"\"\"\n",
    "\n",
    "final.set_attribute('RELIABLE_DATA_STARTS_HERE', 1900)\n",
    "final.set_attribute('RELIABLE_DATA_ENDS_HERE', 2015)\n",
    "final.set_attribute('type','wos')"
   ]
  },
  {
   "cell_type": "markdown",
   "metadata": {},
   "source": [
    "# do the simple string grouper, finally..."
   ]
  },
  {
   "cell_type": "code",
   "execution_count": 24,
   "metadata": {},
   "outputs": [
    {
     "name": "stdout",
     "output_type": "stream",
     "text": [
      "loading variable anthro-wos-clean/ind ___ c from disk\n"
     ]
    }
   ],
   "source": [
    "from grouper import SimpleStringGrouper\n",
    "SimpleStringGrouper(final).run()"
   ]
  }
 ],
 "metadata": {
  "kernelspec": {
   "display_name": "Python 3 (ipykernel)",
   "language": "python",
   "name": "python3"
  },
  "language_info": {
   "codemirror_mode": {
    "name": "ipython",
    "version": 3
   },
   "file_extension": ".py",
   "mimetype": "text/x-python",
   "name": "python",
   "nbconvert_exporter": "python",
   "pygments_lexer": "ipython3",
   "version": "3.9.7"
  }
 },
 "nbformat": 4,
 "nbformat_minor": 4
}
