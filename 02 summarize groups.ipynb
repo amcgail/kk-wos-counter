{
 "cells": [
  {
   "cell_type": "code",
   "execution_count": 1,
   "metadata": {},
   "outputs": [],
   "source": [
    "from knowknow import *"
   ]
  },
  {
   "cell_type": "code",
   "execution_count": 4,
   "metadata": {},
   "outputs": [],
   "source": [
    "from params import *"
   ]
  },
  {
   "cell_type": "code",
   "execution_count": 5,
   "metadata": {},
   "outputs": [
    {
     "name": "stdout",
     "output_type": "stream",
     "text": [
      "loading variable anthro-wos-journalFilter/_attributes from disk\n",
      "loading variable anthro-wos-journalFilter/groups from disk\n",
      "loading variable anthro-wos-journalFilter/group_reps from disk\n"
     ]
    }
   ],
   "source": [
    "db = Dataset(f\"{ident}-wos-journalFilter\")"
   ]
  },
  {
   "cell_type": "code",
   "execution_count": 6,
   "metadata": {},
   "outputs": [],
   "source": [
    "db.groupings = []"
   ]
  },
  {
   "cell_type": "code",
   "execution_count": 7,
   "metadata": {},
   "outputs": [
    {
     "name": "stdout",
     "output_type": "stream",
     "text": [
      "loading variable anthro-wos-journalFilter/groups from disk\n",
      "loading variable anthro-wos-journalFilter/group_reps from disk\n"
     ]
    }
   ],
   "source": [
    "groups = db.load_variable(\"groups\")\n",
    "group_reps = db.load_variable(\"group_reps\")"
   ]
  },
  {
   "cell_type": "code",
   "execution_count": 8,
   "metadata": {},
   "outputs": [],
   "source": [
    "def isarticle(x):\n",
    "    sp = x.split(\"|\")\n",
    "    if len(sp) < 2:\n",
    "        return False\n",
    "\n",
    "    try:\n",
    "        int(sp[1])\n",
    "        return True\n",
    "    except ValueError:\n",
    "        return False"
   ]
  },
  {
   "cell_type": "code",
   "execution_count": 9,
   "metadata": {},
   "outputs": [
    {
     "name": "stdout",
     "output_type": "stream",
     "text": [
      "loading variable anthro-wos-journalFilter/ind ___ c from disk\n"
     ]
    },
    {
     "data": {
      "text/plain": [
       "1383166"
      ]
     },
     "execution_count": 9,
     "metadata": {},
     "output_type": "execute_result"
    }
   ],
   "source": [
    "len(db.items('c'))"
   ]
  },
  {
   "cell_type": "code",
   "execution_count": 10,
   "metadata": {},
   "outputs": [
    {
     "data": {
      "text/plain": [
       "58727"
      ]
     },
     "execution_count": 10,
     "metadata": {},
     "output_type": "execute_result"
    }
   ],
   "source": [
    "len(groups)"
   ]
  },
  {
   "cell_type": "code",
   "execution_count": 11,
   "metadata": {},
   "outputs": [],
   "source": [
    "c = Counter(groups.values())\n",
    "c = Counter(c.values())"
   ]
  },
  {
   "cell_type": "code",
   "execution_count": 12,
   "metadata": {},
   "outputs": [
    {
     "data": {
      "text/plain": [
       "[<matplotlib.lines.Line2D at 0x7f1d7a1862e0>]"
      ]
     },
     "execution_count": 12,
     "metadata": {},
     "output_type": "execute_result"
    },
    {
     "data": {
      "image/png": "[encoded data removed]",
      "text/plain": [
       "<Figure size 432x288 with 1 Axes>"
      ]
     },
     "metadata": {},
     "output_type": "display_data"
    }
   ],
   "source": [
    "x = sorted(c.keys())\n",
    "y = [np.log(c[xx]) for xx in x]\n",
    "plt.plot(x,y)"
   ]
  },
  {
   "cell_type": "code",
   "execution_count": 13,
   "metadata": {},
   "outputs": [],
   "source": [
    "udocs = list(group_reps.values())\n",
    "n1 = len(groups)\n",
    "n2 = sum(not isarticle(x) for x in groups)\n",
    "n3 = sum(isarticle(x) for x in groups)\n",
    "n4 = len(udocs)\n",
    "n5 = sum(x for n,x in c.items() if n >= 5)"
   ]
  },
  {
   "cell_type": "code",
   "execution_count": 14,
   "metadata": {},
   "outputs": [
    {
     "data": {
      "text/markdown": [
       "\n",
       "There are 58,727 cited works with at least 5 citations - 22,755 books and 35,972 articles.\n",
       "After textual grouping, this reduces to 56,527 distinct works.\n",
       "There were 22 cited works which had at least five separate pseudonyms.\n"
      ],
      "text/plain": [
       "<IPython.core.display.Markdown object>"
      ]
     },
     "metadata": {},
     "output_type": "display_data"
    }
   ],
   "source": [
    "display(Markdown(\"\"\"\n",
    "There are {n1:,} cited works with at least 5 citations - {n2:,} books and {n3:,} articles.\n",
    "After textual grouping, this reduces to {n4:,} distinct works.\n",
    "There were {n5:,} cited works which had at least five separate pseudonyms.\n",
    "\"\"\".format(**locals())))"
   ]
  },
  {
   "cell_type": "code",
   "execution_count": 15,
   "metadata": {},
   "outputs": [],
   "source": [
    "c = Counter(groups.values())"
   ]
  },
  {
   "cell_type": "code",
   "execution_count": 16,
   "metadata": {},
   "outputs": [],
   "source": [
    "book_g = [g for x,g in groups.items() if not isarticle(x)]\n",
    "article_g = [g for x,g in groups.items() if isarticle(x)]"
   ]
  },
  {
   "cell_type": "code",
   "execution_count": 17,
   "metadata": {},
   "outputs": [],
   "source": [
    "book_g = [x for x in book_g if c[x]>1]\n",
    "article_g = [x for x in article_g if c[x]>1]"
   ]
  },
  {
   "cell_type": "code",
   "execution_count": 18,
   "metadata": {},
   "outputs": [
    {
     "name": "stdout",
     "output_type": "stream",
     "text": [
      "Braverman, H.|labor monopoly capit (56)\n",
      "Braverman, H.|labour monopoly capi (7)\n",
      "\n",
      "Gudeman, S.|ec culture (6)\n",
      "Gudeman, S.|ec culture models me (22)\n",
      "\n",
      "Levi-Strauss, C.|raw cooked (27)\n",
      "Levi-Strauss, C.|raw cooked intro sci (8)\n",
      "\n",
      "Tuzin, D.|voice tambaran (9)\n",
      "Tuzin, D.|voice tambaran truth (20)\n",
      "\n",
      "Basso, E.|favor deceit (5)\n",
      "Basso, E.|favor deceit study t (7)\n",
      "\n",
      "Mintz, S.|worker cane (10)\n",
      "Mintz, S.|worker cane puerto r (11)\n",
      "Mintz, S.|worker cane puerto r worker cane puerto r (16)\n",
      "\n",
      "Wittgenstein, L.|philos investigation (68)\n",
      "Wittgenstein, L.|philosophical invest (11)\n",
      "\n",
      "Bloch, M.|blessing violence (17)\n",
      "Bloch, M.|blessing violence hi (26)\n",
      "\n",
      "Rice, P.|pottery anal (9)\n",
      "Rice, P.|pottery anal source (14)\n",
      "Rice, P.|pottery anal sourceb (140)\n",
      "\n",
      "Mead, G.|mind self soc (75)\n",
      "Mead, G.|mind self soc standp (22)\n",
      "\n",
      "Marquardt, W.|archaic hunters gath (11)\n",
      "Marquardt, W.|hunters gatherers (9)\n",
      "\n",
      "Verano, J.|dis demography am (11)\n",
      "Verano, J.|disease demography a (5)\n",
      "\n",
      "Hallowell, A.|culture experience (165)\n",
      "Hallowell, I.|culture experience (16)\n",
      "\n",
      "Lawrence, P.|road belong cargo (43)\n",
      "Lawrence, P.|road belong cargo st (31)\n",
      "\n",
      "Elkin, A.|austr aborigines (47)\n",
      "Elkin, A.|australian aborigine (13)\n",
      "\n",
      "Leighton, A.|my name is legion (5)\n",
      "Leighton, A.|my name legion (7)\n",
      "\n",
      "Freyre, G.|masters slaves (16)\n",
      "Freyre, G.|masters slaves study (15)\n",
      "\n",
      "Weber, M.|protestant ethic (33)\n",
      "Weber, M.|protestant ethic spi (192)\n",
      "\n",
      "Briggs, J.|never anger (30)\n",
      "Briggs, J.|never anger portrait (46)\n",
      "\n",
      "Lipset, S.|political man (8)\n",
      "Lipset, S.|political man social (12)\n",
      "\n"
     ]
    }
   ],
   "source": [
    "# books\n",
    "\n",
    "import json\n",
    "toprint = 20\n",
    "printed = 0\n",
    "printi = 0\n",
    "\n",
    "shuf = list(set(book_g))\n",
    "shuffle(shuf)\n",
    "\n",
    "while printed < toprint:\n",
    "    \n",
    "    myparts = [\"%s (%s)\" % (k,db(c=k).cits) for k,v in groups.items() if v==shuf[printi]]\n",
    "    printi += 1\n",
    "    \n",
    "    pstr = \"\\n\".join(myparts)\n",
    "    \n",
    "    if len(myparts) == 1:\n",
    "        continue\n",
    "        \n",
    "    print(pstr)\n",
    "    print()\n",
    "    \n",
    "    printed += 1"
   ]
  },
  {
   "cell_type": "code",
   "execution_count": 19,
   "metadata": {},
   "outputs": [
    {
     "name": "stdout",
     "output_type": "stream",
     "text": [
      "Clark, W.|1950|q j geol soc lond,v105,p225 (6)\n",
      "Clark, W.|1950|q j geol soc lond,v105,p260 (10)\n",
      "\n",
      "Tills, D.|1977|ann hum biol,v4,p23 (12)\n",
      "Tills, D.|1977|ann hum biol,v4,p35 (11)\n",
      "\n",
      "Simons, E.|1961|postilla [yale peabody mus],v54,p1 (10)\n",
      "Simons, E.|1961|postilla [yale peabody mus],v57,p1 (6)\n",
      "\n",
      "Junghans, S.|1960|studien anfangen met,v1 (6)\n",
      "Junghans, S.|1968|studien anfangen met,v2 (6)\n",
      "\n",
      "Nielsen-Marsh, C.|2000|j archaeol sci,v27,p1139 (47)\n",
      "Nielsen-Marsh, C.|2000|j archaeol sci,v27,p1151 (27)\n",
      "\n",
      "Panterbrick, C.|1996|am j hum biol,v8,p263 (8)\n",
      "Panterbrick, C.|1996|am j hum biol,v8,p661 (6)\n",
      "Panterbrick, C.|1996|am j hum biol,v8,p653 (9)\n",
      "\n",
      "Garn, S.|1966|j dent res,v45,p1819 (8)\n",
      "Garn, S.|1966|j dent res,v45,p1823 (5)\n",
      "\n",
      "Colton, H.|1937|museum no arizona b,v11 (19)\n",
      "Colton, H.|1939|museum no arizona b,v17 (9)\n",
      "\n",
      "Ramsey, C.|2004|radiocarbon,v46,p155 (69)\n",
      "Ramsey, C.|2004|radiocarbon,v46,p17 (23)\n",
      "\n",
      "Sugiyama, Y.|1979|primates,v20,p323 (5)\n",
      "Sugiyama, Y.|1979|primates,v20,p513 (14)\n",
      "\n",
      "Osgood, C.|1940|yale u publications,v22 (11)\n",
      "Osgood, C.|1943|yale u publications,v27 (6)\n",
      "Osgood, C.|1942|yale u publications,v25 (9)\n",
      "\n",
      "Gluckman, M.|1940|bantu stud,v14,p1 (21)\n",
      "Gluckman, M.|1940|bantu stud,v14,p147 (9)\n",
      "\n",
      "Halstead, P.|1989|bad year ec cultural,p1 (43)\n",
      "Halstead, P.|1989|bad year ec cultural,p68 (20)\n",
      "\n",
      "Clark, J.|1988|quaternary res,v30,p67 (18)\n",
      "Clark, J.|1988|quaternary res,v30,p81 (8)\n",
      "\n",
      "Trinkaus, E.|2000|j archaeol sci,v27,p1017 (8)\n",
      "Trinkaus, E.|2000|j archaeol sci,v27,p1115 (9)\n",
      "\n",
      "Kaberry, P.|1940|oceania,v11,p345 (5)\n",
      "Kaberry, P.|1941|oceania,v11,p345 (7)\n",
      "\n",
      "Johanson, D.|1978|kirtlandia,v28,p1 (30)\n",
      "Johanson, D.|1978|kirtlandia,v28,p2 (5)\n",
      "\n",
      "Garn, S.|1967|am j phys anthropol,v27,p205 (5)\n",
      "Garn, S.|1967|am j phys anthropol,v27,p375 (7)\n",
      "\n",
      "Appadurai, A.|1988|cultural anthr,v3,p16 (9)\n",
      "Appadurai, A.|1988|cultural anthr,v3,p36 (41)\n",
      "\n",
      "Mead, M.|1930|bp bishop museum b,v76 (9)\n",
      "Mead, M.|1969|bp bishop museum b,v76 (6)\n",
      "\n",
      "Cole, T.|1995|arch dis child,v73,p25 (26)\n",
      "Cole, T.|1995|arch dis child,v73,p8 (8)\n",
      "\n",
      "Butzer, K.|1969|nature,v222,p1133 (6)\n",
      "Butzer, K.|1969|nature,v222,p1138 (10)\n",
      "\n",
      "Ryan, T.|2002|j hum evol,v43,p1 (17)\n",
      "Ryan, T.|2002|j hum evol,v43,p241 (13)\n",
      "\n",
      "Sherwood, R.|2002|j hum evol,v42,p153 (10)\n",
      "Sherwood, R.|2002|j hum evol,v42,p63 (19)\n",
      "\n",
      "Tode, A.|1953|eiszeitalter gegenwa,v3,p144 (5)\n",
      "Tode, A.|1953|eiszeitalter gegenwa,v3,p192 (5)\n",
      "\n",
      "Mbembe, A.|2004|public culture,v16,p347 (14)\n",
      "Mbembe, A.|2004|public culture,v16,p373 (10)\n",
      "\n",
      "Serangeli, J.|2015|j hum evol,v89,p172 (8)\n",
      "Serangeli, J.|2015|j hum evol,v89,p27 (10)\n",
      "Serangeli, J.|2015|j hum evol,v89,p287 (12)\n",
      "\n",
      "Morlan, R.|1967|arctic anthropol,v4,p164 (12)\n",
      "Morlan, R.|1967|arctic anthropol,v4,p180 (5)\n",
      "\n",
      "Blumenschine, R.|2012|j hum evol,v63,p364 (26)\n",
      "Blumenschine, R.|2012|j hum evol,v63,p384 (25)\n",
      "\n",
      "Krackhardt, D.|1987|soc networks,v9,p109 (51)\n",
      "Krackhardt, D.|1987|soc networks,v9,p171 (26)\n",
      "\n"
     ]
    }
   ],
   "source": [
    "# article\n",
    "\n",
    "import json\n",
    "toprint = 30\n",
    "printed = 0\n",
    "printi = 0\n",
    "\n",
    "shuf = list(set(article_g))\n",
    "shuffle(shuf)\n",
    "\n",
    "while printed < toprint:\n",
    "    \n",
    "    myparts = [\"%s (%s)\" % (k,db(c=k).cits) for k,v in groups.items() if v==shuf[printi]]\n",
    "    printi += 1\n",
    "           \n",
    "    pstr = \"\\n\".join(myparts)\n",
    "    \n",
    "    \n",
    "    if len(myparts) == 1:\n",
    "        continue\n",
    "        \n",
    "    print(pstr)\n",
    "    print()\n",
    "    \n",
    "    printed += 1"
   ]
  }
 ],
 "metadata": {
  "kernelspec": {
   "display_name": "Python 3 (ipykernel)",
   "language": "python",
   "name": "python3"
  },
  "language_info": {
   "codemirror_mode": {
    "name": "ipython",
    "version": 3
   },
   "file_extension": ".py",
   "mimetype": "text/x-python",
   "name": "python",
   "nbconvert_exporter": "python",
   "pygments_lexer": "ipython3",
   "version": "3.9.7"
  }
 },
 "nbformat": 4,
 "nbformat_minor": 4
}
